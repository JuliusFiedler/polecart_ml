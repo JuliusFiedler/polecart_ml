{
 "cells": [
  {
   "cell_type": "code",
   "execution_count": 1,
   "metadata": {},
   "outputs": [],
   "source": [
    "import sympy as sp\n",
    "from sympy import sin, cos, pi\n",
    "from sympy.interactive import printing\n",
    "import pickle\n",
    "import numpy as np\n",
    "import scipy as sc\n",
    "import scipy.interpolate\n",
    "from scipy.integrate import odeint\n",
    "import matplotlib.pyplot as plt\n",
    "\n",
    "import symbtools as st\n",
    "import symbtools.modeltools as mt\n",
    "import symbtools.noncommutativetools as nct"
   ]
  },
  {
   "attachments": {},
   "cell_type": "markdown",
   "metadata": {},
   "source": [
    "mathematisches Pendel der Länge $l$ \n",
    "\n",
    "$\\varphi=0$ entspricht der oberen Ruhelage"
   ]
  },
  {
   "cell_type": "code",
   "execution_count": 2,
   "metadata": {},
   "outputs": [],
   "source": [
    "t = sp.Symbol('t')\n",
    "Np = 1\n",
    "Nq = 1\n",
    "n = Np + Nq\n",
    "pp = st.symb_vector(\"p1:{0}\".format(Np+1))\n",
    "qq = st.symb_vector(\"q1:{0}\".format(Nq+1))\n",
    "aa = st.symb_vector(\"a1:{0}\".format(Nq+1))\n",
    "ww = st.symb_vector(\"w1:{0}\".format(Nq+1))\n",
    "\n",
    "ttheta = st.row_stack(pp, qq) ##:T\n",
    "tthetad = st.time_deriv(ttheta, ttheta) ##:T\n",
    "tthetadd = st.time_deriv(ttheta, ttheta, order=2) ##:T\n",
    "st.make_global(ttheta, tthetad)"
   ]
  },
  {
   "cell_type": "code",
   "execution_count": 3,
   "metadata": {},
   "outputs": [],
   "source": [
    "params = sp.symbols('m1, m2, l, g') # m1 wagen, m2 pole\n",
    "st.make_global(params)\n",
    "\n",
    "tau1 = sp.Symbol(\"tau1\")"
   ]
  },
  {
   "cell_type": "code",
   "execution_count": 4,
   "metadata": {},
   "outputs": [],
   "source": [
    "#Einheitsvektoren\n",
    "ex = sp.Matrix([1,0])\n",
    "ey = sp.Matrix([0,1])\n",
    "\n",
    "\n",
    "# Koordinaten der Schwerpunkte und Gelenke\n",
    "S1 = ex*q1 # Schwerpunkt Wagen\n",
    "G2 = S1 # Pendel-Gelenk\n",
    "\n",
    "# Schwerpunkt des Pendels (Pendel zeigt für kleine Winkel nach #! OBEN)\n",
    "S2 = G2 + sp.Matrix([l * sin(p1), l*cos(p1)]) \n",
    "\n",
    "# Zeitableitungen der Schwerpunktskoordinaten\n",
    "Sd1, Sd2  = st.col_split(st.time_deriv(st.col_stack(S1, S2), ttheta)) ##"
   ]
  },
  {
   "cell_type": "code",
   "execution_count": 5,
   "metadata": {},
   "outputs": [],
   "source": [
    "# Energie\n",
    "T_rot = 0 # (Punktmassenmodell)\n",
    "T_trans = ( m1*Sd1.T*Sd1  +  m2*Sd2.T*Sd2 )/2\n",
    "\n",
    "T = T_rot + T_trans[0]\n",
    "\n",
    "V = m2*g*S2[1]"
   ]
  },
  {
   "cell_type": "code",
   "execution_count": 6,
   "metadata": {},
   "outputs": [
    {
     "data": {
      "text/latex": [
       "$\\displaystyle \\left[\\begin{matrix}l \\sin{\\left(p_{1} \\right)} + q_{1}\\\\l \\cos{\\left(p_{1} \\right)}\\end{matrix}\\right]$"
      ],
      "text/plain": [
       "Matrix([\n",
       "[l*sin(p1) + q1],\n",
       "[     l*cos(p1)]])"
      ]
     },
     "execution_count": 6,
     "metadata": {},
     "output_type": "execute_result"
    }
   ],
   "source": [
    "S2"
   ]
  },
  {
   "cell_type": "code",
   "execution_count": 7,
   "metadata": {},
   "outputs": [
    {
     "data": {
      "text/latex": [
       "$\\displaystyle \\left[\\begin{matrix}l \\dot{p}_{1} \\cos{\\left(p_{1} \\right)} + \\dot{q}_{1}\\\\- l \\dot{p}_{1} \\sin{\\left(p_{1} \\right)}\\end{matrix}\\right]$"
      ],
      "text/plain": [
       "Matrix([\n",
       "[l*pdot1*cos(p1) + qdot1],\n",
       "[       -l*pdot1*sin(p1)]])"
      ]
     },
     "execution_count": 7,
     "metadata": {},
     "output_type": "execute_result"
    }
   ],
   "source": [
    "Sd2"
   ]
  },
  {
   "cell_type": "code",
   "execution_count": 8,
   "metadata": {},
   "outputs": [
    {
     "data": {
      "text/latex": [
       "$\\displaystyle \\left[\\begin{matrix}\\frac{l^{2} m_{2} \\dot{p}_{1}^{2} \\sin^{2}{\\left(p_{1} \\right)}}{2} + \\frac{m_{1} \\dot{q}_{1}^{2}}{2} + \\frac{m_{2} \\left(l \\dot{p}_{1} \\cos{\\left(p_{1} \\right)} + \\dot{q}_{1}\\right)^{2}}{2}\\end{matrix}\\right]$"
      ],
      "text/plain": [
       "Matrix([[l**2*m2*pdot1**2*sin(p1)**2/2 + m1*qdot1**2/2 + m2*(l*pdot1*cos(p1) + qdot1)**2/2]])"
      ]
     },
     "execution_count": 8,
     "metadata": {},
     "output_type": "execute_result"
    }
   ],
   "source": [
    "T_trans"
   ]
  },
  {
   "cell_type": "code",
   "execution_count": 9,
   "metadata": {},
   "outputs": [
    {
     "data": {
      "text/latex": [
       "$\\displaystyle \\frac{l^{2} m_{2} \\dot{p}_{1}^{2} \\sin^{2}{\\left(p_{1} \\right)}}{2} + \\frac{m_{1} \\dot{q}_{1}^{2}}{2} + \\frac{m_{2} \\left(l \\dot{p}_{1} \\cos{\\left(p_{1} \\right)} + \\dot{q}_{1}\\right)^{2}}{2}$"
      ],
      "text/plain": [
       "l**2*m2*pdot1**2*sin(p1)**2/2 + m1*qdot1**2/2 + m2*(l*pdot1*cos(p1) + qdot1)**2/2"
      ]
     },
     "execution_count": 9,
     "metadata": {},
     "output_type": "execute_result"
    }
   ],
   "source": [
    "T_trans[0]"
   ]
  },
  {
   "cell_type": "code",
   "execution_count": 10,
   "metadata": {},
   "outputs": [
    {
     "data": {
      "text/latex": [
       "$\\displaystyle \\left[\\begin{matrix}l m_{2} \\left(l \\ddot{p}_{1} - \\dot{p}_{1} \\dot{q}_{1} \\sin{\\left(p_{1} \\right)} + \\ddot{q}_{1} \\cos{\\left(p_{1} \\right)}\\right)\\\\m_{1} \\ddot{q}_{1} + m_{2} \\left(l \\ddot{p}_{1} \\cos{\\left(p_{1} \\right)} - l \\dot{p}_{1}^{2} \\sin{\\left(p_{1} \\right)} + \\ddot{q}_{1}\\right)\\end{matrix}\\right]$"
      ],
      "text/plain": [
       "Matrix([\n",
       "[         l*m2*(l*pddot1 - pdot1*qdot1*sin(p1) + qddot1*cos(p1))],\n",
       "[m1*qddot1 + m2*(l*pddot1*cos(p1) - l*pdot1**2*sin(p1) + qddot1)]])"
      ]
     },
     "execution_count": 10,
     "metadata": {},
     "output_type": "execute_result"
    }
   ],
   "source": [
    "L = T_trans[0] + V\n",
    "dLdqd = sp.Derivative(L, tthetad).doit().simplify()\n",
    "dLdq = sp.Derivative(L, ttheta).doit().simplify()\n",
    "ddLdqddt = st.time_deriv(dLdqd, ttheta).simplify()\n",
    "ddLdqddt\n"
   ]
  },
  {
   "cell_type": "code",
   "execution_count": 11,
   "metadata": {},
   "outputs": [],
   "source": [
    "mod = mt.generate_symbolic_model(T, V, ttheta, [0, tau1])"
   ]
  },
  {
   "cell_type": "code",
   "execution_count": 12,
   "metadata": {},
   "outputs": [
    {
     "data": {
      "text/latex": [
       "$\\displaystyle \\left[\\begin{matrix}l^{2} m_{2} & l m_{2} \\cos{\\left(p_{1} \\right)}\\\\l m_{2} \\cos{\\left(p_{1} \\right)} & m_{1} + m_{2}\\end{matrix}\\right]$"
      ],
      "text/plain": [
       "Matrix([\n",
       "[     l**2*m2, l*m2*cos(p1)],\n",
       "[l*m2*cos(p1),      m1 + m2]])"
      ]
     },
     "execution_count": 12,
     "metadata": {},
     "output_type": "execute_result"
    }
   ],
   "source": [
    "mod.MM.simplify()\n",
    "mod.MM"
   ]
  },
  {
   "cell_type": "code",
   "execution_count": 13,
   "metadata": {},
   "outputs": [
    {
     "data": {
      "text/latex": [
       "$\\displaystyle \\left[\\begin{matrix}l m_{2} \\left(- g \\sin{\\left(p_{1} \\right)} + l \\ddot{p}_{1} + \\ddot{q}_{1} \\cos{\\left(p_{1} \\right)}\\right)\\\\m_{1} \\ddot{q}_{1} + m_{2} \\left(l \\ddot{p}_{1} \\cos{\\left(p_{1} \\right)} - l \\dot{p}_{1}^{2} \\sin{\\left(p_{1} \\right)} + \\ddot{q}_{1}\\right) - \\tau_{1}\\end{matrix}\\right]$"
      ],
      "text/plain": [
       "Matrix([\n",
       "[                         l*m2*(-g*sin(p1) + l*pddot1 + qddot1*cos(p1))],\n",
       "[m1*qddot1 + m2*(l*pddot1*cos(p1) - l*pdot1**2*sin(p1) + qddot1) - tau1]])"
      ]
     },
     "execution_count": 13,
     "metadata": {},
     "output_type": "execute_result"
    }
   ],
   "source": [
    "mod.eqns"
   ]
  },
  {
   "cell_type": "code",
   "execution_count": 14,
   "metadata": {},
   "outputs": [
    {
     "data": {
      "text/latex": [
       "$\\displaystyle \\left[\\begin{matrix}\\dot{p}_{1}\\\\\\dot{q}_{1}\\\\\\frac{g \\left(m_{1} + m_{2}\\right) \\sin{\\left(p_{1} \\right)} - \\left(l m_{2} \\dot{p}_{1}^{2} \\sin{\\left(p_{1} \\right)} + \\tau_{1}\\right) \\cos{\\left(p_{1} \\right)}}{l \\left(m_{1} + m_{2} \\sin^{2}{\\left(p_{1} \\right)}\\right)}\\\\\\frac{- \\frac{g m_{2} \\sin{\\left(2 p_{1} \\right)}}{2} + l m_{2} \\dot{p}_{1}^{2} \\sin{\\left(p_{1} \\right)} + \\tau_{1}}{m_{1} + m_{2} \\sin^{2}{\\left(p_{1} \\right)}}\\end{matrix}\\right]$"
      ],
      "text/plain": [
       "Matrix([\n",
       "[                                                                                  pdot1],\n",
       "[                                                                                  qdot1],\n",
       "[(g*(m1 + m2)*sin(p1) - (l*m2*pdot1**2*sin(p1) + tau1)*cos(p1))/(l*(m1 + m2*sin(p1)**2))],\n",
       "[                (-g*m2*sin(2*p1)/2 + l*m2*pdot1**2*sin(p1) + tau1)/(m1 + m2*sin(p1)**2)]])"
      ]
     },
     "execution_count": 14,
     "metadata": {},
     "output_type": "execute_result"
    }
   ],
   "source": [
    "mod.calc_state_eq(simplify=True)\n",
    "sp.simplify(mod.state_eq)"
   ]
  },
  {
   "cell_type": "code",
   "execution_count": 15,
   "metadata": {},
   "outputs": [
    {
     "data": {
      "text/plain": [
       "'Matrix([\\n[                                                                                  pdot1],\\n[                                                                                  qdot1],\\n[(g*(m1 + m2)*sin(p1) - (l*m2*pdot1**2*sin(p1) + tau1)*cos(p1))/(l*(m1 + m2*sin(p1)**2))],\\n[                (-g*m2*sin(2*p1)/2 + l*m2*pdot1**2*sin(p1) + tau1)/(m1 + m2*sin(p1)**2)]])'"
      ]
     },
     "execution_count": 15,
     "metadata": {},
     "output_type": "execute_result"
    }
   ],
   "source": [
    "repr(sp.simplify(mod.state_eq))\n"
   ]
  },
  {
   "cell_type": "code",
   "execution_count": 16,
   "metadata": {},
   "outputs": [
    {
     "data": {
      "text/latex": [
       "$\\displaystyle \\left[\\begin{matrix}\\dot{p}_{1}\\\\\\dot{q}_{1}\\\\\\frac{0.75 \\left(g \\left(m_{1} + m_{2}\\right) \\sin{\\left(p_{1} \\right)} - \\left(1.33333333333333 l m_{2} \\dot{p}_{1}^{2} \\sin{\\left(p_{1} \\right)} + \\tau_{1}\\right) \\cos{\\left(p_{1} \\right)}\\right)}{l \\left(m_{1} + m_{2} \\sin^{2}{\\left(p_{1} \\right)}\\right)}\\\\\\frac{- \\frac{g m_{2} \\sin{\\left(2 p_{1} \\right)}}{2} + 1.33333333333333 l m_{2} \\dot{p}_{1}^{2} \\sin{\\left(p_{1} \\right)} + \\tau_{1}}{m_{1} + m_{2} \\sin^{2}{\\left(p_{1} \\right)}}\\end{matrix}\\right]$"
      ],
      "text/plain": [
       "Matrix([\n",
       "[                                                                                                        pdot1],\n",
       "[                                                                                                        qdot1],\n",
       "[0.75*(g*(m1 + m2)*sin(p1) - (1.33333333333333*l*m2*pdot1**2*sin(p1) + tau1)*cos(p1))/(l*(m1 + m2*sin(p1)**2))],\n",
       "[                     (-g*m2*sin(2*p1)/2 + 1.33333333333333*l*m2*pdot1**2*sin(p1) + tau1)/(m1 + m2*sin(p1)**2)]])"
      ]
     },
     "execution_count": 16,
     "metadata": {},
     "output_type": "execute_result"
    }
   ],
   "source": [
    "sp.simplify(mod.state_eq.subs(l, 4/3*l))"
   ]
  },
  {
   "cell_type": "code",
   "execution_count": 17,
   "metadata": {},
   "outputs": [],
   "source": [
    "mod.calc_coll_part_lin_state_eq(simplify=True)"
   ]
  },
  {
   "cell_type": "code",
   "execution_count": 18,
   "metadata": {},
   "outputs": [
    {
     "data": {
      "text/latex": [
       "$\\displaystyle \\left[\\begin{matrix}p_{1}\\\\q_{1}\\\\\\dot{p}_{1}\\\\\\dot{q}_{1}\\end{matrix}\\right]$"
      ],
      "text/plain": [
       "Matrix([\n",
       "[   p1],\n",
       "[   q1],\n",
       "[pdot1],\n",
       "[qdot1]])"
      ]
     },
     "execution_count": 18,
     "metadata": {},
     "output_type": "execute_result"
    }
   ],
   "source": [
    "xx = mod.x ##:T\n",
    "f = mod.ff ##:\n",
    "G = mod.gg \n",
    "g1, = st.col_split(G) ##:\n",
    "xx"
   ]
  },
  {
   "cell_type": "code",
   "execution_count": 19,
   "metadata": {},
   "outputs": [
    {
     "data": {
      "text/latex": [
       "$\\displaystyle \\left[\\begin{matrix}\\dot{p}_{1}\\\\\\dot{q}_{1}\\\\\\frac{g \\sin{\\left(p_{1} \\right)}}{l}\\\\0\\end{matrix}\\right]$"
      ],
      "text/plain": [
       "Matrix([\n",
       "[      pdot1],\n",
       "[      qdot1],\n",
       "[g*sin(p1)/l],\n",
       "[          0]])"
      ]
     },
     "execution_count": 19,
     "metadata": {},
     "output_type": "execute_result"
    }
   ],
   "source": [
    "f"
   ]
  },
  {
   "cell_type": "code",
   "execution_count": 20,
   "metadata": {},
   "outputs": [
    {
     "data": {
      "text/latex": [
       "$\\displaystyle \\left[\\begin{matrix}0\\\\0\\\\- \\frac{\\cos{\\left(p_{1} \\right)}}{l}\\\\1\\end{matrix}\\right]$"
      ],
      "text/plain": [
       "Matrix([\n",
       "[         0],\n",
       "[         0],\n",
       "[-cos(p1)/l],\n",
       "[         1]])"
      ]
     },
     "execution_count": 20,
     "metadata": {},
     "output_type": "execute_result"
    }
   ],
   "source": [
    "G"
   ]
  },
  {
   "cell_type": "code",
   "execution_count": 21,
   "metadata": {},
   "outputs": [
    {
     "data": {
      "text/latex": [
       "$\\displaystyle \\left[\\begin{matrix}0\\\\0\\\\0\\\\0\\end{matrix}\\right]$"
      ],
      "text/plain": [
       "Matrix([\n",
       "[0],\n",
       "[0],\n",
       "[0],\n",
       "[0]])"
      ]
     },
     "execution_count": 21,
     "metadata": {},
     "output_type": "execute_result"
    }
   ],
   "source": [
    "eqp1 = sp.Matrix([0, 0, 0, 0 ]) # obere RL\n",
    "eqp2 = sp.Matrix([-sp.pi, 0, 0, 0]) # untere RL\n",
    "\n",
    "# Probe:\n",
    "f.subz(xx, eqp1) ##:T\n",
    "f.subz(xx, eqp2) ##:T"
   ]
  },
  {
   "cell_type": "code",
   "execution_count": 22,
   "metadata": {},
   "outputs": [
    {
     "data": {
      "text/plain": [
       "[(g, 9.81), (l, 0.5), (p1, -pi), (q1, 0), (pdot1, 0), (qdot1, 0)]"
      ]
     },
     "execution_count": 22,
     "metadata": {},
     "output_type": "execute_result"
    }
   ],
   "source": [
    "# Parameterwerte\n",
    "parameter_values = [(g, 9.81), (l, .5)]\n",
    "replm =  parameter_values + list(zip(xx, eqp2)) ##\n",
    "replm"
   ]
  },
  {
   "cell_type": "code",
   "execution_count": 23,
   "metadata": {},
   "outputs": [
    {
     "data": {
      "text/latex": [
       "$\\displaystyle \\left[\\begin{matrix}0 & 0 & 1 & 0\\\\0 & 0 & 0 & 1\\\\-19.62 & 0 & 0 & 0\\\\0 & 0 & 0 & 0\\end{matrix}\\right]$"
      ],
      "text/plain": [
       "Matrix([\n",
       "[     0, 0, 1, 0],\n",
       "[     0, 0, 0, 1],\n",
       "[-19.62, 0, 0, 0],\n",
       "[     0, 0, 0, 0]])"
      ]
     },
     "execution_count": 23,
     "metadata": {},
     "output_type": "execute_result"
    }
   ],
   "source": [
    "A1 = f.jacobian(xx).subs(replm) ##\n",
    "A1"
   ]
  },
  {
   "cell_type": "code",
   "execution_count": 24,
   "metadata": {},
   "outputs": [
    {
     "data": {
      "text/latex": [
       "$\\displaystyle \\left[\\begin{matrix}0\\\\0\\\\2.0\\\\1\\end{matrix}\\right]$"
      ],
      "text/plain": [
       "Matrix([\n",
       "[  0],\n",
       "[  0],\n",
       "[2.0],\n",
       "[  1]])"
      ]
     },
     "execution_count": 24,
     "metadata": {},
     "output_type": "execute_result"
    }
   ],
   "source": [
    "b1 = G.subs(replm) ##\n",
    "b1"
   ]
  },
  {
   "cell_type": "code",
   "execution_count": 25,
   "metadata": {},
   "outputs": [],
   "source": [
    "def F_env_order(F):\n",
    "    return [F[0,1], F[0,3], F[0,0], F[0,2]]"
   ]
  },
  {
   "cell_type": "code",
   "execution_count": 26,
   "metadata": {},
   "outputs": [],
   "source": [
    "def normalize_F(F):\n",
    "    return F / F[0]"
   ]
  },
  {
   "cell_type": "code",
   "execution_count": 27,
   "metadata": {},
   "outputs": [
    {
     "name": "stdout",
     "output_type": "stream",
     "text": [
      "F [[1.31401376 2.49197248 1.54250765 2.51498471]]\n",
      "F in env order of x, xdot, phi, phidot:\n",
      "[2.491972477064221, 2.514984709480121, 1.314013761467891, 1.5425076452599387]\n"
     ]
    },
    {
     "data": {
      "text/plain": [
       "array([-1.3+3.4j, -1.3-3.4j, -1.5+1.2j, -1.5-1.2j])"
      ]
     },
     "execution_count": 27,
     "metadata": {},
     "output_type": "execute_result"
    }
   ],
   "source": [
    "a = 1.2\n",
    "b = 3.4\n",
    "\n",
    "poles = np.r_[-1.5+a*1j, -1.5-a*1j, -1.3 + b*1j, -1.3 - b*1j] ##:\n",
    "# poles = np.linspace(-5, -8, 4)\n",
    "# k1 = st.siso_place(A1, b1, poles)\n",
    "# print(k1)\n",
    "# A1-b1@k1\n",
    "import control as ctrl\n",
    "F = ctrl.place(np.array(A1, dtype=float), np.array(b1, dtype=float), poles)\n",
    "print(\"F\", F)\n",
    "print(\"F in env order of x, xdot, phi, phidot:\")\n",
    "F_env = F_env_order(F)\n",
    "print(F_env)\n",
    "np.linalg.eigvals(np.array(A1, dtype=float) - np.array(b1, dtype=float) @ F)"
   ]
  },
  {
   "attachments": {},
   "cell_type": "markdown",
   "metadata": {},
   "source": [
    "LQR"
   ]
  },
  {
   "cell_type": "code",
   "execution_count": 28,
   "metadata": {},
   "outputs": [
    {
     "name": "stdout",
     "output_type": "stream",
     "text": [
      "[5.477225575051655, 7.852806746015714, 18.548252241566498, 3.74085591757913]\n",
      "[1.         1.4337198  3.38643205 0.68298372]\n"
     ]
    }
   ],
   "source": [
    "from scipy.linalg import solve_continuous_are\n",
    "# Q = np.diag([1000, 1000, 1000, 1000])\n",
    "Q = np.diag([30, 30, 30, 30])\n",
    "R = 1\n",
    "A = np.array(A1, dtype=float)\n",
    "B = np.array(b1, dtype=float)\n",
    "P = solve_continuous_are(A, B, Q, R)\n",
    "# print(P)\n",
    "K = 1/R * B.T @ P\n",
    "F_LQR = F_env_order(K)\n",
    "print(F_LQR)\n",
    "print(normalize_F(F_LQR))"
   ]
  },
  {
   "cell_type": "code",
   "execution_count": 24,
   "metadata": {},
   "outputs": [
    {
     "name": "stdout",
     "output_type": "stream",
     "text": [
      "{25909.0629821017: 1, -81.4629715292655: 1, 33.4969336287814: 1, -0.0932416710619695: 1}\n"
     ]
    }
   ],
   "source": [
    "# calculate Q from given F\n",
    "F_NN = np.array([[16.94674301,  31.63287544, 150.45680237,  40.50919724]])\n",
    "p = [sp.var(f\"p{i}\") for i in range(16)]\n",
    "P = sp.Matrix(np.array(p).reshape(4,4))\n",
    "sol = sp.solve(b1.T@P-sp.Matrix(F_NN), P)\n",
    "P_num = P.subs(sol).subs([(\"p2\", sol[p[8]]), (\"p6\", sol[p[9]]), (\"p14\", sol[p[11]])]).subs(zip(p, sp.ones(16,1)))\n",
    "# print(P_num)\n",
    "assert np.sum(B.T@P_num - F_NN) == 0\n",
    "Q = -(A.T@P_num + P_num@A-P_num@B@B.T@P_num)\n",
    "print(Q.eigenvals())\n",
    "Q = np.array(Q, dtype=float)\n",
    "\n"
   ]
  },
  {
   "cell_type": "code",
   "execution_count": 25,
   "metadata": {},
   "outputs": [
    {
     "data": {
      "text/latex": [
       "$\\displaystyle \\left[\\begin{matrix}-1.31401376146789\\\\-2.49197247706422\\\\-1.54250764525994\\\\-2.51498470948012\\end{matrix}\\right]$"
      ],
      "text/plain": [
       "Matrix([\n",
       "[-1.31401376146789],\n",
       "[-2.49197247706422],\n",
       "[-1.54250764525994],\n",
       "[-2.51498470948012]])"
      ]
     },
     "execution_count": 25,
     "metadata": {},
     "output_type": "execute_result"
    }
   ],
   "source": [
    "k1 = st.siso_place(A1, b1, poles)##:T\n",
    "\n",
    "controller1_expr1 = k1.T*mod.xx\n",
    "controller1_func_intern = st.expr_to_func(mod.xx, k1.T*mod.xx)\n",
    "\n",
    "def controller1_func(xx, t):\n",
    "    # Zeit t ignorieren\n",
    "    return controller1_func_intern(*xx)\n",
    "\n",
    "k1"
   ]
  },
  {
   "cell_type": "code",
   "execution_count": 26,
   "metadata": {},
   "outputs": [
    {
     "data": {
      "text/plain": [
       "{-1.3 - 3.4*I: 1, -1.3 + 3.4*I: 1, -1.5 - 1.2*I: 1, -1.5 + 1.2*I: 1}"
      ]
     },
     "execution_count": 26,
     "metadata": {},
     "output_type": "execute_result"
    }
   ],
   "source": [
    "# Probe\n",
    "A = A1 + b1*k1.T\n",
    "A.eigenvals(rational=False)"
   ]
  },
  {
   "cell_type": "code",
   "execution_count": 27,
   "metadata": {},
   "outputs": [
    {
     "name": "stderr",
     "output_type": "stream",
     "text": [
      "c:\\Users\\Julius Fiedler\\anaconda3\\envs\\da\\lib\\site-packages\\scipy\\integrate\\_odepack_py.py:247: ODEintWarning: Excess work done on this call (perhaps wrong Dfun type). Run with full_output = 1 to get quantitative information.\n",
      "  warnings.warn(warning_msg, ODEintWarning)\n"
     ]
    }
   ],
   "source": [
    "# Zeit-Array und Anfangswerte\n",
    "tt = np.arange(0, 10, 1e-3)\n",
    "xx0 = [3, 0, 0, 0] ##\n",
    "\n",
    "#Erstellung des Simulationsmodells\n",
    "sm = st.SimulationModel(mod.ff, mod.gg, mod.xx, model_parameters=parameter_values)\n",
    "rhs1 = sm.create_simfunction(controller_function=controller1_func)\n",
    "\n",
    "# Durchführung der Simulation\n",
    "res = odeint(rhs1, xx0, tt)\n",
    "X1, X2, X3, X4 = res.T\n",
    "aa1 = controller1_func_intern(X1, X2, X3, X4)"
   ]
  },
  {
   "cell_type": "code",
   "execution_count": 28,
   "metadata": {},
   "outputs": [
    {
     "data": {
      "text/plain": [
       "<matplotlib.legend.Legend at 0x2c01a48fbe0>"
      ]
     },
     "execution_count": 28,
     "metadata": {},
     "output_type": "execute_result"
    },
    {
     "data": {
      "image/png": "[encoded data removed]",
      "text/plain": [
       "<Figure size 1500x400 with 3 Axes>"
      ]
     },
     "metadata": {},
     "output_type": "display_data"
    }
   ],
   "source": [
    "T_fin = 6\n",
    "plt.figure(figsize=(15,4))\n",
    "plt.subplot(1, 3, 1)\n",
    "plt.plot(tt, X1, label=\"phi\")\n",
    "plt.legend(loc='best', fontsize=16)\n",
    "plt.subplot(1, 3, 2)\n",
    "plt.plot(tt, X2, label=\"x\")\n",
    "plt.legend(loc='best', fontsize=16)\n",
    "plt.subplot(1, 3, 3)\n",
    "plt.plot(tt, aa1, label=\"u\")\n",
    "plt.vlines([T_fin], -20, 20, color='0.8', label=r'Tend')\n",
    "plt.legend(loc='best', fontsize=16)"
   ]
  },
  {
   "attachments": {},
   "cell_type": "markdown",
   "metadata": {},
   "source": [
    "Simulation"
   ]
  },
  {
   "cell_type": "code",
   "execution_count": 29,
   "metadata": {},
   "outputs": [
    {
     "ename": "KeyboardInterrupt",
     "evalue": "",
     "output_type": "error",
     "traceback": [
      "\u001b[1;31m---------------------------------------------------------------------------\u001b[0m",
      "\u001b[1;31mKeyboardInterrupt\u001b[0m                         Traceback (most recent call last)",
      "Cell \u001b[1;32mIn[29], line 22\u001b[0m\n\u001b[0;32m     20\u001b[0m tt \u001b[39m=\u001b[39m np\u001b[39m.\u001b[39mlinspace(\u001b[39m0\u001b[39m, tend, \u001b[39m2000\u001b[39m)\n\u001b[0;32m     21\u001b[0m xx0 \u001b[39m=\u001b[39m [\u001b[39m0\u001b[39m, \u001b[39m0\u001b[39m, \u001b[39m0.01\u001b[39m, \u001b[39m0\u001b[39m]\n\u001b[1;32m---> 22\u001b[0m s \u001b[39m=\u001b[39m solve_ivp(rhs, (\u001b[39m0\u001b[39;49m, tend), xx0, t_eval\u001b[39m=\u001b[39;49mtt)\n\u001b[0;32m     23\u001b[0m labels \u001b[39m=\u001b[39m [\u001b[39m\"\u001b[39m\u001b[39mx\u001b[39m\u001b[39m\"\u001b[39m, \u001b[39m\"\u001b[39m\u001b[39mxdot\u001b[39m\u001b[39m\"\u001b[39m, \u001b[39m\"\u001b[39m\u001b[39mphi\u001b[39m\u001b[39m\"\u001b[39m, \u001b[39m\"\u001b[39m\u001b[39mphidot\u001b[39m\u001b[39m\"\u001b[39m]\n\u001b[0;32m     24\u001b[0m \u001b[39mfor\u001b[39;00m i \u001b[39min\u001b[39;00m \u001b[39mrange\u001b[39m(\u001b[39m4\u001b[39m):\n",
      "File \u001b[1;32mc:\\Users\\Julius Fiedler\\anaconda3\\envs\\da\\lib\\site-packages\\scipy\\integrate\\_ivp\\ivp.py:580\u001b[0m, in \u001b[0;36msolve_ivp\u001b[1;34m(fun, t_span, y0, method, t_eval, dense_output, events, vectorized, args, **options)\u001b[0m\n\u001b[0;32m    578\u001b[0m status \u001b[39m=\u001b[39m \u001b[39mNone\u001b[39;00m\n\u001b[0;32m    579\u001b[0m \u001b[39mwhile\u001b[39;00m status \u001b[39mis\u001b[39;00m \u001b[39mNone\u001b[39;00m:\n\u001b[1;32m--> 580\u001b[0m     message \u001b[39m=\u001b[39m solver\u001b[39m.\u001b[39;49mstep()\n\u001b[0;32m    582\u001b[0m     \u001b[39mif\u001b[39;00m solver\u001b[39m.\u001b[39mstatus \u001b[39m==\u001b[39m \u001b[39m'\u001b[39m\u001b[39mfinished\u001b[39m\u001b[39m'\u001b[39m:\n\u001b[0;32m    583\u001b[0m         status \u001b[39m=\u001b[39m \u001b[39m0\u001b[39m\n",
      "File \u001b[1;32mc:\\Users\\Julius Fiedler\\anaconda3\\envs\\da\\lib\\site-packages\\scipy\\integrate\\_ivp\\base.py:181\u001b[0m, in \u001b[0;36mOdeSolver.step\u001b[1;34m(self)\u001b[0m\n\u001b[0;32m    179\u001b[0m \u001b[39melse\u001b[39;00m:\n\u001b[0;32m    180\u001b[0m     t \u001b[39m=\u001b[39m \u001b[39mself\u001b[39m\u001b[39m.\u001b[39mt\n\u001b[1;32m--> 181\u001b[0m     success, message \u001b[39m=\u001b[39m \u001b[39mself\u001b[39;49m\u001b[39m.\u001b[39;49m_step_impl()\n\u001b[0;32m    183\u001b[0m     \u001b[39mif\u001b[39;00m \u001b[39mnot\u001b[39;00m success:\n\u001b[0;32m    184\u001b[0m         \u001b[39mself\u001b[39m\u001b[39m.\u001b[39mstatus \u001b[39m=\u001b[39m \u001b[39m'\u001b[39m\u001b[39mfailed\u001b[39m\u001b[39m'\u001b[39m\n",
      "File \u001b[1;32mc:\\Users\\Julius Fiedler\\anaconda3\\envs\\da\\lib\\site-packages\\scipy\\integrate\\_ivp\\rk.py:144\u001b[0m, in \u001b[0;36mRungeKutta._step_impl\u001b[1;34m(self)\u001b[0m\n\u001b[0;32m    141\u001b[0m h \u001b[39m=\u001b[39m t_new \u001b[39m-\u001b[39m t\n\u001b[0;32m    142\u001b[0m h_abs \u001b[39m=\u001b[39m np\u001b[39m.\u001b[39mabs(h)\n\u001b[1;32m--> 144\u001b[0m y_new, f_new \u001b[39m=\u001b[39m rk_step(\u001b[39mself\u001b[39;49m\u001b[39m.\u001b[39;49mfun, t, y, \u001b[39mself\u001b[39;49m\u001b[39m.\u001b[39;49mf, h, \u001b[39mself\u001b[39;49m\u001b[39m.\u001b[39;49mA,\n\u001b[0;32m    145\u001b[0m                        \u001b[39mself\u001b[39;49m\u001b[39m.\u001b[39;49mB, \u001b[39mself\u001b[39;49m\u001b[39m.\u001b[39;49mC, \u001b[39mself\u001b[39;49m\u001b[39m.\u001b[39;49mK)\n\u001b[0;32m    146\u001b[0m scale \u001b[39m=\u001b[39m atol \u001b[39m+\u001b[39m np\u001b[39m.\u001b[39mmaximum(np\u001b[39m.\u001b[39mabs(y), np\u001b[39m.\u001b[39mabs(y_new)) \u001b[39m*\u001b[39m rtol\n\u001b[0;32m    147\u001b[0m error_norm \u001b[39m=\u001b[39m \u001b[39mself\u001b[39m\u001b[39m.\u001b[39m_estimate_error_norm(\u001b[39mself\u001b[39m\u001b[39m.\u001b[39mK, h, scale)\n",
      "File \u001b[1;32mc:\\Users\\Julius Fiedler\\anaconda3\\envs\\da\\lib\\site-packages\\scipy\\integrate\\_ivp\\rk.py:64\u001b[0m, in \u001b[0;36mrk_step\u001b[1;34m(fun, t, y, f, h, A, B, C, K)\u001b[0m\n\u001b[0;32m     62\u001b[0m \u001b[39mfor\u001b[39;00m s, (a, c) \u001b[39min\u001b[39;00m \u001b[39menumerate\u001b[39m(\u001b[39mzip\u001b[39m(A[\u001b[39m1\u001b[39m:], C[\u001b[39m1\u001b[39m:]), start\u001b[39m=\u001b[39m\u001b[39m1\u001b[39m):\n\u001b[0;32m     63\u001b[0m     dy \u001b[39m=\u001b[39m np\u001b[39m.\u001b[39mdot(K[:s]\u001b[39m.\u001b[39mT, a[:s]) \u001b[39m*\u001b[39m h\n\u001b[1;32m---> 64\u001b[0m     K[s] \u001b[39m=\u001b[39m fun(t \u001b[39m+\u001b[39;49m c \u001b[39m*\u001b[39;49m h, y \u001b[39m+\u001b[39;49m dy)\n\u001b[0;32m     66\u001b[0m y_new \u001b[39m=\u001b[39m y \u001b[39m+\u001b[39m h \u001b[39m*\u001b[39m np\u001b[39m.\u001b[39mdot(K[:\u001b[39m-\u001b[39m\u001b[39m1\u001b[39m]\u001b[39m.\u001b[39mT, B)\n\u001b[0;32m     67\u001b[0m f_new \u001b[39m=\u001b[39m fun(t \u001b[39m+\u001b[39m h, y_new)\n",
      "File \u001b[1;32mc:\\Users\\Julius Fiedler\\anaconda3\\envs\\da\\lib\\site-packages\\scipy\\integrate\\_ivp\\base.py:138\u001b[0m, in \u001b[0;36mOdeSolver.__init__.<locals>.fun\u001b[1;34m(t, y)\u001b[0m\n\u001b[0;32m    136\u001b[0m \u001b[39mdef\u001b[39;00m \u001b[39mfun\u001b[39m(t, y):\n\u001b[0;32m    137\u001b[0m     \u001b[39mself\u001b[39m\u001b[39m.\u001b[39mnfev \u001b[39m+\u001b[39m\u001b[39m=\u001b[39m \u001b[39m1\u001b[39m\n\u001b[1;32m--> 138\u001b[0m     \u001b[39mreturn\u001b[39;00m \u001b[39mself\u001b[39;49m\u001b[39m.\u001b[39;49mfun_single(t, y)\n",
      "File \u001b[1;32mc:\\Users\\Julius Fiedler\\anaconda3\\envs\\da\\lib\\site-packages\\scipy\\integrate\\_ivp\\base.py:20\u001b[0m, in \u001b[0;36mcheck_arguments.<locals>.fun_wrapped\u001b[1;34m(t, y)\u001b[0m\n\u001b[0;32m     19\u001b[0m \u001b[39mdef\u001b[39;00m \u001b[39mfun_wrapped\u001b[39m(t, y):\n\u001b[1;32m---> 20\u001b[0m     \u001b[39mreturn\u001b[39;00m np\u001b[39m.\u001b[39masarray(fun(t, y), dtype\u001b[39m=\u001b[39mdtype)\n",
      "Cell \u001b[1;32mIn[29], line 10\u001b[0m, in \u001b[0;36mrhs\u001b[1;34m(t, state)\u001b[0m\n\u001b[0;32m      8\u001b[0m m2 \u001b[39m=\u001b[39m \u001b[39m0.1\u001b[39m\n\u001b[0;32m      9\u001b[0m F \u001b[39m=\u001b[39m np\u001b[39m.\u001b[39marray([[\u001b[39m-\u001b[39m\u001b[39m23.42598624\u001b[39m,  \u001b[39m-\u001b[39m\u001b[39m2.49197248\u001b[39m,  \u001b[39m-\u001b[39m\u001b[39m4.05749235\u001b[39m,  \u001b[39m-\u001b[39m\u001b[39m2.51498471\u001b[39m]])\n\u001b[1;32m---> 10\u001b[0m u1 \u001b[39m=\u001b[39m \u001b[39m-\u001b[39;49m F \u001b[39m@\u001b[39m np\u001b[39m.\u001b[39marray([x1, x2, x3, x4])\n\u001b[0;32m     11\u001b[0m dx1_dt \u001b[39m=\u001b[39m x3\n\u001b[0;32m     12\u001b[0m dx2_dt \u001b[39m=\u001b[39m x4\n",
      "\u001b[1;31mKeyboardInterrupt\u001b[0m: "
     ]
    }
   ],
   "source": [
    "from scipy.integrate import solve_ivp\n",
    "def rhs(t, state):\n",
    "    x, x_dot, theta, theta_dot = state\n",
    "    x1, x2, x3, x4 = x, theta, x_dot, theta_dot # change order\n",
    "    g = 9.8\n",
    "    l = 0.5\n",
    "    m1 = 1.0\n",
    "    m2 = 0.1\n",
    "    F = np.array([[-23.42598624,  -2.49197248,  -4.05749235,  -2.51498471]])\n",
    "    u1 = - F @ np.array([x1, x2, x3, x4])\n",
    "    dx1_dt = x3\n",
    "    dx2_dt = x4\n",
    "    dx3_dt = (-g*m2*np.sin(2*x2)/2 + l*m2*theta_dot**2*np.sin(x2) + u1)/(m1 + m2*np.sin(x2)**2)\n",
    "    dx4_dt = (g*(m1 + m2)*np.sin(x2) - (l*m2*theta_dot**2*np.sin(x2) + u1)*np.cos(x2))/\\\n",
    "        (l*(m1 + m2*np.sin(x2)**2))\n",
    "    \n",
    "    return [dx1_dt, dx3_dt, dx2_dt, dx4_dt] # change order back\n",
    "\n",
    "tend = 10\n",
    "tt = np.linspace(0, tend, 2000)\n",
    "xx0 = [0, 0, 0.01, 0]\n",
    "s = solve_ivp(rhs, (0, tend), xx0, t_eval=tt)\n",
    "labels = [\"x\", \"xdot\", \"phi\", \"phidot\"]\n",
    "for i in range(4):\n",
    "    plt.plot(s.t, s.y[i], label=labels[i])\n",
    "plt.legend()\n",
    "plt.show()"
   ]
  }
 ],
 "metadata": {
  "kernelspec": {
   "display_name": "da",
   "language": "python",
   "name": "python3"
  },
  "language_info": {
   "codemirror_mode": {
    "name": "ipython",
    "version": 3
   },
   "file_extension": ".py",
   "mimetype": "text/x-python",
   "name": "python",
   "nbconvert_exporter": "python",
   "pygments_lexer": "ipython3",
   "version": "3.8.16"
  },
  "orig_nbformat": 4,
  "vscode": {
   "interpreter": {
    "hash": "7a5251e7a0f2a79c62d3605fc843efca3d324516acff077044b5da8d168dd566"
   }
  }
 },
 "nbformat": 4,
 "nbformat_minor": 2
}
