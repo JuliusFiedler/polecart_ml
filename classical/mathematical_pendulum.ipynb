{
 "cells": [
  {
   "cell_type": "code",
   "execution_count": null,
   "metadata": {},
   "outputs": [],
   "source": [
    "import sympy as sp\n",
    "from sympy import sin, cos, pi\n",
    "from sympy.interactive import printing\n",
    "import pickle\n",
    "import numpy as np\n",
    "import scipy as sc\n",
    "import scipy.interpolate\n",
    "from scipy.integrate import odeint\n",
    "import matplotlib.pyplot as plt\n",
    "\n",
    "import symbtools as st\n",
    "import symbtools.modeltools as mt\n",
    "import symbtools.noncommutativetools as nct"
   ]
  },
  {
   "attachments": {},
   "cell_type": "markdown",
   "metadata": {},
   "source": [
    "mathematisches Pendel der Länge $l$ \n",
    "\n",
    "$\\varphi=0$ entspricht der oberen Ruhelage"
   ]
  },
  {
   "cell_type": "code",
   "execution_count": null,
   "metadata": {},
   "outputs": [],
   "source": [
    "t = sp.Symbol('t')\n",
    "Np = 1\n",
    "Nq = 1\n",
    "n = Np + Nq\n",
    "pp = st.symb_vector(\"p1:{0}\".format(Np+1))\n",
    "qq = st.symb_vector(\"q1:{0}\".format(Nq+1))\n",
    "aa = st.symb_vector(\"a1:{0}\".format(Nq+1))\n",
    "ww = st.symb_vector(\"w1:{0}\".format(Nq+1))\n",
    "\n",
    "ttheta = st.row_stack(pp, qq) ##:T\n",
    "tthetad = st.time_deriv(ttheta, ttheta) ##:T\n",
    "tthetadd = st.time_deriv(ttheta, ttheta, order=2) ##:T\n",
    "st.make_global(ttheta, tthetad)"
   ]
  },
  {
   "cell_type": "code",
   "execution_count": null,
   "metadata": {},
   "outputs": [],
   "source": [
    "params = sp.symbols('m1, m2, l, g') # m1 wagen, m2 pole\n",
    "st.make_global(params)\n",
    "\n",
    "tau1 = sp.Symbol(\"tau1\")"
   ]
  },
  {
   "cell_type": "code",
   "execution_count": null,
   "metadata": {},
   "outputs": [],
   "source": [
    "#Einheitsvektoren\n",
    "ex = sp.Matrix([1,0])\n",
    "ey = sp.Matrix([0,1])\n",
    "\n",
    "\n",
    "# Koordinaten der Schwerpunkte und Gelenke\n",
    "S1 = ex*q1 # Schwerpunkt Wagen\n",
    "G2 = S1 # Pendel-Gelenk\n",
    "\n",
    "# Schwerpunkt des Pendels (Pendel zeigt für kleine Winkel nach #! OBEN)\n",
    "S2 = G2 + sp.Matrix([l * sin(p1), l*cos(p1)]) \n",
    "\n",
    "# Zeitableitungen der Schwerpunktskoordinaten\n",
    "Sd1, Sd2  = st.col_split(st.time_deriv(st.col_stack(S1, S2), ttheta)) ##"
   ]
  },
  {
   "cell_type": "code",
   "execution_count": null,
   "metadata": {},
   "outputs": [],
   "source": [
    "# Energie\n",
    "T_rot = 0 # (Punktmassenmodell)\n",
    "T_trans = ( m1*Sd1.T*Sd1  +  m2*Sd2.T*Sd2 )/2\n",
    "\n",
    "T = T_rot + T_trans[0]\n",
    "\n",
    "V = m2*g*S2[1]"
   ]
  },
  {
   "cell_type": "code",
   "execution_count": null,
   "metadata": {},
   "outputs": [],
   "source": [
    "mod = mt.generate_symbolic_model(T, V, ttheta, [0, tau1])"
   ]
  },
  {
   "cell_type": "code",
   "execution_count": null,
   "metadata": {},
   "outputs": [],
   "source": [
    "mod.MM.simplify()\n",
    "mod.MM"
   ]
  },
  {
   "cell_type": "code",
   "execution_count": null,
   "metadata": {},
   "outputs": [],
   "source": [
    "mod.eqns"
   ]
  },
  {
   "cell_type": "code",
   "execution_count": null,
   "metadata": {},
   "outputs": [],
   "source": [
    "mod.calc_state_eq(simplify=True)\n",
    "sp.simplify(mod.state_eq)"
   ]
  },
  {
   "cell_type": "code",
   "execution_count": null,
   "metadata": {},
   "outputs": [],
   "source": [
    "repr(sp.simplify(mod.state_eq))\n"
   ]
  },
  {
   "cell_type": "code",
   "execution_count": null,
   "metadata": {},
   "outputs": [],
   "source": [
    "sp.simplify(mod.state_eq.subs(l, 4/3*l))"
   ]
  },
  {
   "cell_type": "code",
   "execution_count": null,
   "metadata": {},
   "outputs": [],
   "source": [
    "mod.calc_coll_part_lin_state_eq(simplify=True)"
   ]
  },
  {
   "cell_type": "code",
   "execution_count": null,
   "metadata": {},
   "outputs": [],
   "source": [
    "xx = mod.x ##:T\n",
    "f = mod.ff ##:\n",
    "G = mod.gg \n",
    "g1, = st.col_split(G) ##:\n",
    "xx"
   ]
  },
  {
   "cell_type": "code",
   "execution_count": null,
   "metadata": {},
   "outputs": [],
   "source": [
    "f"
   ]
  },
  {
   "cell_type": "code",
   "execution_count": null,
   "metadata": {},
   "outputs": [],
   "source": [
    "G"
   ]
  },
  {
   "cell_type": "code",
   "execution_count": null,
   "metadata": {},
   "outputs": [],
   "source": [
    "eqp1 = sp.Matrix([0, 0, 0, 0 ]) ##:T\n",
    "eqp2 = sp.Matrix([sp.pi, 0, 0, 0]) ##:T\n",
    "\n",
    "# Probe:\n",
    "f.subz(xx, eqp1) ##:T\n",
    "f.subz(xx, eqp2) ##:T"
   ]
  },
  {
   "cell_type": "code",
   "execution_count": null,
   "metadata": {},
   "outputs": [],
   "source": [
    "# Parameterwerte\n",
    "parameter_values = [(g, 9.81), (l, .5)]\n",
    "replm =  parameter_values + list(zip(xx, eqp1)) ##\n",
    "replm"
   ]
  },
  {
   "cell_type": "code",
   "execution_count": null,
   "metadata": {},
   "outputs": [],
   "source": [
    "A1 = f.jacobian(xx).subs(replm) ##\n",
    "A1"
   ]
  },
  {
   "cell_type": "code",
   "execution_count": null,
   "metadata": {},
   "outputs": [],
   "source": [
    "b1 = G.subs(replm) ##\n",
    "b1"
   ]
  },
  {
   "cell_type": "code",
   "execution_count": null,
   "metadata": {},
   "outputs": [],
   "source": [
    "a = 1.2\n",
    "b = 3.4\n",
    "\n",
    "poles = np.r_[-1.5+a*1j, -1.5-a*1j, -1.3 + b*1j, -1.3 - b*1j] ##:\n",
    "# poles = np.linspace(-5, -8, 4)\n",
    "# k1 = st.siso_place(A1, b1, poles)\n",
    "# print(k1)\n",
    "# A1-b1@k1\n",
    "import control as ctrl\n",
    "F = ctrl.place(np.array(A1, dtype=float), np.array(b1, dtype=float), poles)\n",
    "print(\"F\", F)\n",
    "print(\"F in env order of x, xdot, phi, phidot:\")\n",
    "F_env = [F[0,1], F[0,3], F[0,0], F[0,2]]\n",
    "print(F_env)\n",
    "np.linalg.eigvals(np.array(A1, dtype=float) - np.array(b1, dtype=float) @ F)"
   ]
  },
  {
   "cell_type": "code",
   "execution_count": null,
   "metadata": {},
   "outputs": [],
   "source": [
    "k1 = st.siso_place(A1, b1, poles)##:T\n",
    "\n",
    "controller1_expr1 = k1.T*mod.xx\n",
    "controller1_func_intern = st.expr_to_func(mod.xx, k1.T*mod.xx)\n",
    "\n",
    "def controller1_func(xx, t):\n",
    "    # Zeit t ignorieren\n",
    "    return controller1_func_intern(*xx)\n",
    "\n",
    "k1"
   ]
  },
  {
   "cell_type": "code",
   "execution_count": null,
   "metadata": {},
   "outputs": [],
   "source": [
    "# Probe\n",
    "A = A1 + b1*k1.T\n",
    "A.eigenvals(rational=False)"
   ]
  },
  {
   "cell_type": "code",
   "execution_count": null,
   "metadata": {},
   "outputs": [],
   "source": [
    "# Zeit-Array und Anfangswerte\n",
    "tt = np.arange(0, 10, 1e-3)\n",
    "xx0 = [0, 0, 0.1, 0] ##\n",
    "\n",
    "#Erstellung des Simulationsmodells\n",
    "sm = st.SimulationModel(mod.ff, mod.gg, mod.xx, model_parameters=parameter_values)\n",
    "rhs1 = sm.create_simfunction(controller_function=controller1_func)\n",
    "\n",
    "# Durchführung der Simulation\n",
    "res = odeint(rhs1, xx0, tt)\n",
    "X1, X2, X3, X4 = res.T\n",
    "aa1 = controller1_func_intern(X1, X2, X3, X4)"
   ]
  },
  {
   "cell_type": "code",
   "execution_count": null,
   "metadata": {},
   "outputs": [],
   "source": [
    "T_fin = 6\n",
    "plt.figure(figsize=(15,4))\n",
    "plt.subplot(1, 3, 1)\n",
    "plt.plot(tt, X1, label=\"phi\")\n",
    "plt.legend(loc='best', fontsize=16)\n",
    "plt.subplot(1, 3, 2)\n",
    "plt.plot(tt, X2, label=\"x\")\n",
    "plt.legend(loc='best', fontsize=16)\n",
    "plt.subplot(1, 3, 3)\n",
    "plt.plot(tt, aa1, label=\"u\")\n",
    "plt.vlines([T_fin], -20, 20, color='0.8', label=r'Tend')\n",
    "plt.legend(loc='best', fontsize=16)"
   ]
  },
  {
   "attachments": {},
   "cell_type": "markdown",
   "metadata": {},
   "source": [
    "Simulation"
   ]
  },
  {
   "cell_type": "code",
   "execution_count": null,
   "metadata": {},
   "outputs": [],
   "source": [
    "from scipy.integrate import solve_ivp\n",
    "def rhs(t, state):\n",
    "    x, x_dot, theta, theta_dot = state\n",
    "    x1, x2, x3, x4 = x, theta, x_dot, theta_dot # change order\n",
    "    g = 9.8\n",
    "    l = 0.5\n",
    "    m1 = 1.0\n",
    "    m2 = 0.1\n",
    "    F = np.array([[-23.42598624,  -2.49197248,  -4.05749235,  -2.51498471]])\n",
    "    u1 = - F @ np.array([x1, x2, x3, x4])\n",
    "    dx1_dt = x3\n",
    "    dx2_dt = x4\n",
    "    dx3_dt = (-g*m2*np.sin(2*x2)/2 + l*m2*theta_dot**2*np.sin(x2) + u1)/(m1 + m2*np.sin(x2)**2)\n",
    "    dx4_dt = (g*(m1 + m2)*np.sin(x2) - (l*m2*theta_dot**2*np.sin(x2) + u1)*np.cos(x2))/\\\n",
    "        (l*(m1 + m2*np.sin(x2)**2))\n",
    "    \n",
    "    return [dx1_dt, dx3_dt, dx2_dt, dx4_dt] # change order back\n",
    "\n",
    "tend = 10\n",
    "tt = np.linspace(0, tend, 2000)\n",
    "xx0 = [0, 0, 0.01, 0]\n",
    "s = solve_ivp(rhs, (0, tend), xx0, t_eval=tt)\n",
    "labels = [\"x\", \"xdot\", \"phi\", \"phidot\"]\n",
    "for i in range(4):\n",
    "    plt.plot(s.t, s.y[i], label=labels[i])\n",
    "plt.legend()\n",
    "plt.show()"
   ]
  }
 ],
 "metadata": {
  "kernelspec": {
   "display_name": "da",
   "language": "python",
   "name": "python3"
  },
  "language_info": {
   "codemirror_mode": {
    "name": "ipython",
    "version": 3
   },
   "file_extension": ".py",
   "mimetype": "text/x-python",
   "name": "python",
   "nbconvert_exporter": "python",
   "pygments_lexer": "ipython3",
   "version": "3.8.16"
  },
  "vscode": {
   "interpreter": {
    "hash": "7a5251e7a0f2a79c62d3605fc843efca3d324516acff077044b5da8d168dd566"
   }
  }
 },
 "nbformat": 4,
 "nbformat_minor": 2
}
