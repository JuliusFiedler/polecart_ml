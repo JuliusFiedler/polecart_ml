{
 "cells": [
  {
   "cell_type": "code",
   "execution_count": 1,
   "metadata": {},
   "outputs": [],
   "source": [
    "import sympy as sp\n",
    "from sympy import sin, cos, pi\n",
    "from sympy.interactive import printing\n",
    "import pickle\n",
    "import numpy as np\n",
    "import scipy as sc\n",
    "import scipy.interpolate\n",
    "from scipy.integrate import odeint\n",
    "import matplotlib.pyplot as pl\n",
    "\n",
    "import symbtools as st\n",
    "import symbtools.modeltools as mt\n",
    "import symbtools.noncommutativetools as nct"
   ]
  },
  {
   "cell_type": "code",
   "execution_count": 1,
   "metadata": {},
   "outputs": [
    {
     "ename": "NameError",
     "evalue": "name 'sp' is not defined",
     "output_type": "error",
     "traceback": [
      "\u001b[1;31m---------------------------------------------------------------------------\u001b[0m",
      "\u001b[1;31mNameError\u001b[0m                                 Traceback (most recent call last)",
      "Cell \u001b[1;32mIn[1], line 1\u001b[0m\n\u001b[1;32m----> 1\u001b[0m t \u001b[38;5;241m=\u001b[39m \u001b[43msp\u001b[49m\u001b[38;5;241m.\u001b[39mSymbol(\u001b[38;5;124m'\u001b[39m\u001b[38;5;124mt\u001b[39m\u001b[38;5;124m'\u001b[39m)\n\u001b[0;32m      2\u001b[0m Np \u001b[38;5;241m=\u001b[39m \u001b[38;5;241m1\u001b[39m\n\u001b[0;32m      3\u001b[0m Nq \u001b[38;5;241m=\u001b[39m \u001b[38;5;241m1\u001b[39m\n",
      "\u001b[1;31mNameError\u001b[0m: name 'sp' is not defined"
     ]
    }
   ],
   "source": [
    "t = sp.Symbol('t')\n",
    "Np = 1\n",
    "Nq = 1\n",
    "n = Np + Nq\n",
    "pp = st.symb_vector(\"p1:{0}\".format(Np+1))\n",
    "qq = st.symb_vector(\"q1:{0}\".format(Nq+1))\n",
    "aa = st.symb_vector(\"a1:{0}\".format(Nq+1))\n",
    "ww = st.symb_vector(\"w1:{0}\".format(Nq+1))\n",
    "\n",
    "ttheta = st.row_stack(pp, qq) ##:T\n",
    "tthetad = st.time_deriv(ttheta, ttheta) ##:T\n",
    "tthetadd = st.time_deriv(ttheta, ttheta, order=2) ##:T\n",
    "st.make_global(ttheta, tthetad)"
   ]
  },
  {
   "cell_type": "code",
   "execution_count": 3,
   "metadata": {},
   "outputs": [],
   "source": [
    "params = sp.symbols('m1, m2, s2, g') # m1 wagen, m2 pole\n",
    "st.make_global(params)\n",
    "\n",
    "tau1 = sp.Symbol(\"tau1\")"
   ]
  },
  {
   "cell_type": "code",
   "execution_count": 4,
   "metadata": {},
   "outputs": [],
   "source": [
    "#Einheitsvektoren\n",
    "ex = sp.Matrix([1,0])\n",
    "ey = sp.Matrix([0,1])\n",
    "\n",
    "\n",
    "# Koordinaten der Schwerpunkte und Gelenke\n",
    "S1 = ex*q1 # Schwerpunkt Wagen\n",
    "G2 = S1 # Pendel-Gelenk\n",
    "\n",
    "# Schwerpunkt des Pendels (Pendel zeigt für kleine Winkel nach #! OBEN)\n",
    "S2 = G2 +sp.Matrix([s2/2 * sin(p1), s2/2*cos(p1)]) #- mt.Rz(p1)*(ey)*s2/2 #! paper: pole has length 2*s2\n",
    "\n",
    "# Zeitableitungen der Schwerpunktskoordinaten\n",
    "Sd1, Sd2  = st.col_split(st.time_deriv(st.col_stack(S1, S2), ttheta)) ##"
   ]
  },
  {
   "cell_type": "code",
   "execution_count": 21,
   "metadata": {},
   "outputs": [
    {
     "data": {
      "text/latex": [
       "$\\displaystyle \\left[\\begin{matrix}\\frac{\\dot{p}_{1} s_{2} \\cos{\\left(p_{1} \\right)}}{2} + \\dot{q}_{1}\\\\- \\frac{\\dot{p}_{1} s_{2} \\sin{\\left(p_{1} \\right)}}{2}\\end{matrix}\\right]$"
      ],
      "text/plain": [
       "Matrix([\n",
       "[pdot1*s2*cos(p1)/2 + qdot1],\n",
       "[       -pdot1*s2*sin(p1)/2]])"
      ]
     },
     "execution_count": 21,
     "metadata": {},
     "output_type": "execute_result"
    }
   ],
   "source": [
    "Sd2"
   ]
  },
  {
   "cell_type": "code",
   "execution_count": 100,
   "metadata": {},
   "outputs": [],
   "source": [
    "k = sp.var(\"k\") # k = 4/3\n",
    "l = sp.var(\"l\")"
   ]
  },
  {
   "cell_type": "code",
   "execution_count": 31,
   "metadata": {},
   "outputs": [],
   "source": [
    "# Energie\n",
    "# T_rot = 0 # (Punktmassenmodell)\n",
    "# J = k*m2*s2**2\n",
    "J = sp.var(\"J\")\n",
    "# T_rot = 0.5 * (J * (Sd2[0]**2 + Sd2[1]**2) / s2**2) # (Verteilte-Masse)\n",
    "T_rot = 0.5 * (J * tthetad[0]**2) # (Verteilte-Masse)\n",
    "T_trans = ( m1*Sd1.T*Sd1  +  m2*Sd2.T*Sd2 )/2\n",
    "\n",
    "T = T_rot + T_trans[0]\n",
    "\n",
    "V = m2*g*S2[1]"
   ]
  },
  {
   "cell_type": "code",
   "execution_count": 56,
   "metadata": {},
   "outputs": [
    {
     "data": {
      "text/latex": [
       "$\\displaystyle \\left[\\begin{matrix}\\dot{p}_{1}\\\\\\dot{q}_{1}\\end{matrix}\\right]$"
      ],
      "text/plain": [
       "Matrix([\n",
       "[pdot1],\n",
       "[qdot1]])"
      ]
     },
     "execution_count": 56,
     "metadata": {},
     "output_type": "execute_result"
    }
   ],
   "source": [
    "tthetad"
   ]
  },
  {
   "cell_type": "code",
   "execution_count": 29,
   "metadata": {},
   "outputs": [
    {
     "data": {
      "text/latex": [
       "$\\displaystyle 0.5 J \\dot{p}_{1}$"
      ],
      "text/plain": [
       "0.5*J*pdot1"
      ]
     },
     "execution_count": 29,
     "metadata": {},
     "output_type": "execute_result"
    }
   ],
   "source": [
    "sp.simplify(T_rot)"
   ]
  },
  {
   "cell_type": "code",
   "execution_count": 14,
   "metadata": {},
   "outputs": [
    {
     "data": {
      "text/latex": [
       "$\\displaystyle \\left[\\begin{matrix}\\frac{m_{1} \\dot{q}_{1}^{2}}{2} + \\frac{m_{2} \\dot{p}_{1}^{2} s_{2}^{2} \\sin^{2}{\\left(p_{1} \\right)}}{8} + \\frac{m_{2} \\left(\\frac{\\dot{p}_{1} s_{2} \\cos{\\left(p_{1} \\right)}}{2} + \\dot{q}_{1}\\right)^{2}}{2}\\end{matrix}\\right]$"
      ],
      "text/plain": [
       "Matrix([[m1*qdot1**2/2 + m2*pdot1**2*s2**2*sin(p1)**2/8 + m2*(pdot1*s2*cos(p1)/2 + qdot1)**2/2]])"
      ]
     },
     "execution_count": 14,
     "metadata": {},
     "output_type": "execute_result"
    }
   ],
   "source": [
    "T_trans"
   ]
  },
  {
   "cell_type": "code",
   "execution_count": 57,
   "metadata": {},
   "outputs": [
    {
     "data": {
      "text/latex": [
       "$\\displaystyle 0.5 J \\dot{p}_{1}^{2} - 0.5 g m_{2} s_{2} \\cos{\\left(p_{1} \\right)} + 0.5 m_{1} \\dot{q}_{1}^{2} + 0.125 m_{2} \\dot{p}_{1}^{2} s_{2}^{2} + 0.5 m_{2} \\dot{p}_{1} \\dot{q}_{1} s_{2} \\cos{\\left(p_{1} \\right)} + 0.5 m_{2} \\dot{q}_{1}^{2}$"
      ],
      "text/plain": [
       "0.5*J*pdot1**2 - 0.5*g*m2*s2*cos(p1) + 0.5*m1*qdot1**2 + 0.125*m2*pdot1**2*s2**2 + 0.5*m2*pdot1*qdot1*s2*cos(p1) + 0.5*m2*qdot1**2"
      ]
     },
     "execution_count": 57,
     "metadata": {},
     "output_type": "execute_result"
    }
   ],
   "source": [
    "L = T - V\n",
    "sp.simplify(L)"
   ]
  },
  {
   "cell_type": "code",
   "execution_count": 60,
   "metadata": {},
   "outputs": [
    {
     "data": {
      "text/latex": [
       "$\\displaystyle \\left[\\begin{matrix}\\frac{m_{2} s_{2} \\left(g - \\dot{p}_{1} \\dot{q}_{1}\\right) \\sin{\\left(p_{1} \\right)}}{2} & 0\\end{matrix}\\right]$"
      ],
      "text/plain": [
       "Matrix([[m2*s2*(g - pdot1*qdot1)*sin(p1)/2, 0]])"
      ]
     },
     "execution_count": 60,
     "metadata": {},
     "output_type": "execute_result"
    }
   ],
   "source": [
    "sp.simplify(st.jac(L, ttheta))"
   ]
  },
  {
   "cell_type": "code",
   "execution_count": 80,
   "metadata": {},
   "outputs": [
    {
     "data": {
      "text/latex": [
       "$\\displaystyle \\left[\\begin{matrix}J \\dot{p}_{1} + \\frac{m_{2} \\dot{p}_{1} s_{2}^{2}}{4} + \\frac{m_{2} \\dot{q}_{1} s_{2} \\cos{\\left(p_{1} \\right)}}{2} & m_{1} \\dot{q}_{1} + \\frac{m_{2} \\dot{p}_{1} s_{2} \\cos{\\left(p_{1} \\right)}}{2} + m_{2} \\dot{q}_{1}\\end{matrix}\\right]$"
      ],
      "text/plain": [
       "Matrix([[J*pdot1 + m2*pdot1*s2**2/4 + m2*qdot1*s2*cos(p1)/2, m1*qdot1 + m2*pdot1*s2*cos(p1)/2 + m2*qdot1]])"
      ]
     },
     "execution_count": 80,
     "metadata": {},
     "output_type": "execute_result"
    }
   ],
   "source": [
    "sp.simplify(st.jac(L, tthetad))"
   ]
  },
  {
   "cell_type": "code",
   "execution_count": 83,
   "metadata": {},
   "outputs": [
    {
     "data": {
      "text/latex": [
       "$\\displaystyle \\left[\\begin{matrix}J \\ddot{p}_{1} + \\frac{m_{2} \\ddot{p}_{1} s_{2}^{2}}{4} - \\frac{m_{2} \\dot{p}_{1} \\dot{q}_{1} s_{2} \\sin{\\left(p_{1} \\right)}}{2} + \\frac{m_{2} \\ddot{q}_{1} s_{2} \\cos{\\left(p_{1} \\right)}}{2} & m_{1} \\ddot{q}_{1} + \\frac{m_{2} \\left(\\ddot{p}_{1} s_{2} \\cos{\\left(p_{1} \\right)} - \\dot{p}_{1}^{2} s_{2} \\sin{\\left(p_{1} \\right)} + 2 \\ddot{q}_{1}\\right)}{2}\\end{matrix}\\right]$"
      ],
      "text/plain": [
       "Matrix([[J*pddot1 + m2*pddot1*s2**2/4 - m2*pdot1*qdot1*s2*sin(p1)/2 + m2*qddot1*s2*cos(p1)/2, m1*qddot1 + m2*(pddot1*s2*cos(p1) - pdot1**2*s2*sin(p1) + 2*qddot1)/2]])"
      ]
     },
     "execution_count": 83,
     "metadata": {},
     "output_type": "execute_result"
    }
   ],
   "source": [
    "sp.simplify(st.time_deriv(st.jac(L, tthetad), [*ttheta, *tthetad]))"
   ]
  },
  {
   "cell_type": "code",
   "execution_count": 33,
   "metadata": {},
   "outputs": [],
   "source": [
    "mod = mt.generate_symbolic_model(T, V, ttheta, [0, tau1])"
   ]
  },
  {
   "cell_type": "code",
   "execution_count": 87,
   "metadata": {},
   "outputs": [
    {
     "data": {
      "text/latex": [
       "$\\displaystyle \\left[\\begin{matrix}J \\ddot{p}_{1} - \\frac{g m_{2} s_{2} \\sin{\\left(p_{1} \\right)}}{2} + \\frac{m_{2} \\ddot{p}_{1} s_{2}^{2}}{4} + \\frac{m_{2} \\ddot{q}_{1} s_{2} \\cos{\\left(p_{1} \\right)}}{2}\\\\m_{1} \\ddot{q}_{1} + \\frac{m_{2} \\left(\\ddot{p}_{1} s_{2} \\cos{\\left(p_{1} \\right)} - \\dot{p}_{1}^{2} s_{2} \\sin{\\left(p_{1} \\right)} + 2 \\ddot{q}_{1}\\right)}{2} - \\tau_{1}\\end{matrix}\\right]$"
      ],
      "text/plain": [
       "Matrix([\n",
       "[   J*pddot1 - g*m2*s2*sin(p1)/2 + m2*pddot1*s2**2/4 + m2*qddot1*s2*cos(p1)/2],\n",
       "[m1*qddot1 + m2*(pddot1*s2*cos(p1) - pdot1**2*s2*sin(p1) + 2*qddot1)/2 - tau1]])"
      ]
     },
     "execution_count": 87,
     "metadata": {},
     "output_type": "execute_result"
    }
   ],
   "source": [
    "mod.eqns"
   ]
  },
  {
   "cell_type": "code",
   "execution_count": 94,
   "metadata": {},
   "outputs": [
    {
     "data": {
      "text/latex": [
       "$\\displaystyle \\frac{- \\frac{m_{2} \\ddot{p}_{1} s_{2} \\cos{\\left(p_{1} \\right)}}{2} + \\frac{m_{2} \\dot{p}_{1}^{2} s_{2} \\sin{\\left(p_{1} \\right)}}{2} + \\tau_{1}}{m_{1} + m_{2}}$"
      ],
      "text/plain": [
       "(-m2*pddot1*s2*cos(p1)/2 + m2*pdot1**2*s2*sin(p1)/2 + tau1)/(m1 + m2)"
      ]
     },
     "execution_count": 94,
     "metadata": {},
     "output_type": "execute_result"
    }
   ],
   "source": [
    "ddx = sp.solve(mod.eqns[1], tthetadd[1])[0]\n",
    "ddx"
   ]
  },
  {
   "cell_type": "code",
   "execution_count": 116,
   "metadata": {},
   "outputs": [
    {
     "data": {
      "text/latex": [
       "$\\displaystyle 2 g m_{1} m_{2} s_{2} \\sin{\\left(p_{1} \\right)} + 2 g m_{2}^{2} s_{2} \\sin{\\left(p_{1} \\right)} - m_{2}^{2} \\dot{p}_{1}^{2} s_{2}^{2} \\sin{\\left(p_{1} \\right)} \\cos{\\left(p_{1} \\right)} - 2 m_{2} s_{2} \\tau_{1} \\cos{\\left(p_{1} \\right)} + \\ddot{p}_{1} \\left(- 4 J m_{1} - 4 J m_{2} - m_{1} m_{2} s_{2}^{2} + m_{2}^{2} s_{2}^{2} \\cos^{2}{\\left(p_{1} \\right)} - m_{2}^{2} s_{2}^{2}\\right)$"
      ],
      "text/plain": [
       "2*g*m1*m2*s2*sin(p1) + 2*g*m2**2*s2*sin(p1) - m2**2*pdot1**2*s2**2*sin(p1)*cos(p1) - 2*m2*s2*tau1*cos(p1) + pddot1*(-4*J*m1 - 4*J*m2 - m1*m2*s2**2 + m2**2*s2**2*cos(p1)**2 - m2**2*s2**2)"
      ]
     },
     "execution_count": 116,
     "metadata": {},
     "output_type": "execute_result"
    }
   ],
   "source": [
    "(sp.simplify(-mod.eqns[0].subs(tthetadd[1], ddx)).expand() * (4*m1 + 4*m2)).cancel().collect(tthetadd[0])"
   ]
  },
  {
   "cell_type": "code",
   "execution_count": 117,
   "metadata": {},
   "outputs": [
    {
     "data": {
      "text/latex": [
       "$\\displaystyle \\frac{g m_{1} \\sin{\\left(p_{1} \\right)} + g m_{2} \\sin{\\left(p_{1} \\right)} - \\frac{l m_{2} \\dot{p}_{1}^{2} \\sin{\\left(2 p_{1} \\right)}}{2} - \\tau_{1} \\cos{\\left(p_{1} \\right)}}{l \\left(4 k m_{1} + 4 k m_{2} + m_{1} + m_{2} \\sin^{2}{\\left(p_{1} \\right)}\\right)}$"
      ],
      "text/plain": [
       "(g*m1*sin(p1) + g*m2*sin(p1) - l*m2*pdot1**2*sin(2*p1)/2 - tau1*cos(p1))/(l*(4*k*m1 + 4*k*m2 + m1 + m2*sin(p1)**2))"
      ]
     },
     "execution_count": 117,
     "metadata": {},
     "output_type": "execute_result"
    }
   ],
   "source": [
    "sp.simplify(sp.solve(mod.eqns[0].subs(tthetadd[1], ddx), tthetadd[0])[0].subs(J, k*s2**2*m2).subs(s2, 2*l))"
   ]
  },
  {
   "cell_type": "code",
   "execution_count": 34,
   "metadata": {},
   "outputs": [
    {
     "data": {
      "text/latex": [
       "$\\displaystyle \\left[\\begin{matrix}J + \\frac{m_{2} s_{2}^{2}}{4} & \\frac{m_{2} s_{2} \\cos{\\left(p_{1} \\right)}}{2}\\\\\\frac{m_{2} s_{2} \\cos{\\left(p_{1} \\right)}}{2} & m_{1} + m_{2}\\end{matrix}\\right]$"
      ],
      "text/plain": [
       "Matrix([\n",
       "[ J + m2*s2**2/4, m2*s2*cos(p1)/2],\n",
       "[m2*s2*cos(p1)/2,         m1 + m2]])"
      ]
     },
     "execution_count": 34,
     "metadata": {},
     "output_type": "execute_result"
    }
   ],
   "source": [
    "mod.MM.simplify()\n",
    "mod.MM"
   ]
  },
  {
   "cell_type": "code",
   "execution_count": 35,
   "metadata": {},
   "outputs": [],
   "source": [
    "mod.calc_coll_part_lin_state_eq(simplify=True)"
   ]
  },
  {
   "cell_type": "code",
   "execution_count": 36,
   "metadata": {},
   "outputs": [
    {
     "data": {
      "text/latex": [
       "$\\displaystyle \\left[\\begin{matrix}\\dot{p}_{1}\\\\\\dot{q}_{1}\\\\\\frac{2 g m_{1} m_{2} s_{2} \\sin{\\left(p_{1} \\right)} + 2 g m_{2}^{2} s_{2} \\sin{\\left(p_{1} \\right)} - m_{2}^{2} \\dot{p}_{1}^{2} s_{2}^{2} \\sin{\\left(p_{1} \\right)} \\cos{\\left(p_{1} \\right)} - 2 m_{2} s_{2} \\tau_{1} \\cos{\\left(p_{1} \\right)}}{4 J m_{1} + 4 J m_{2} + m_{1} m_{2} s_{2}^{2} + m_{2}^{2} s_{2}^{2} \\sin^{2}{\\left(p_{1} \\right)}}\\\\\\frac{4 J m_{2} \\dot{p}_{1}^{2} s_{2} \\sin{\\left(p_{1} \\right)} + 8 J \\tau_{1} - 2 g m_{2}^{2} s_{2}^{2} \\sin{\\left(p_{1} \\right)} \\cos{\\left(p_{1} \\right)} + m_{2}^{2} \\dot{p}_{1}^{2} s_{2}^{3} \\sin{\\left(p_{1} \\right)} + 2 m_{2} s_{2}^{2} \\tau_{1}}{8 J m_{1} + 8 J m_{2} + 2 m_{1} m_{2} s_{2}^{2} + 2 m_{2}^{2} s_{2}^{2} \\sin^{2}{\\left(p_{1} \\right)}}\\end{matrix}\\right]$"
      ],
      "text/plain": [
       "Matrix([\n",
       "[                                                                                                                                                                                  pdot1],\n",
       "[                                                                                                                                                                                  qdot1],\n",
       "[                   (2*g*m1*m2*s2*sin(p1) + 2*g*m2**2*s2*sin(p1) - m2**2*pdot1**2*s2**2*sin(p1)*cos(p1) - 2*m2*s2*tau1*cos(p1))/(4*J*m1 + 4*J*m2 + m1*m2*s2**2 + m2**2*s2**2*sin(p1)**2)],\n",
       "[(4*J*m2*pdot1**2*s2*sin(p1) + 8*J*tau1 - 2*g*m2**2*s2**2*sin(p1)*cos(p1) + m2**2*pdot1**2*s2**3*sin(p1) + 2*m2*s2**2*tau1)/(8*J*m1 + 8*J*m2 + 2*m1*m2*s2**2 + 2*m2**2*s2**2*sin(p1)**2)]])"
      ]
     },
     "execution_count": 36,
     "metadata": {},
     "output_type": "execute_result"
    }
   ],
   "source": [
    "mod.calc_state_eq(simplify=True)\n",
    "sp.cancel(sp.together(mod.state_eq))\n"
   ]
  },
  {
   "cell_type": "code",
   "execution_count": 11,
   "metadata": {},
   "outputs": [
    {
     "data": {
      "text/latex": [
       "$\\displaystyle - 2.0 \\left(- g k m_{2} \\sin{\\left(p_{1} \\right)} - g m_{1} \\sin{\\left(p_{1} \\right)} - g m_{2} \\sin{\\left(p_{1} \\right)} + 2 k^{2} m_{2} \\dot{p}_{1}^{2} s_{2} \\sin{\\left(p_{1} \\right)} \\cos{\\left(p_{1} \\right)} + 4 k m_{2} \\dot{p}_{1}^{2} s_{2} \\sin{\\left(p_{1} \\right)} \\cos{\\left(p_{1} \\right)} - k \\tau_{1} \\cos{\\left(p_{1} \\right)} + 2 m_{2} \\dot{p}_{1}^{2} s_{2} \\sin{\\left(p_{1} \\right)} \\cos{\\left(p_{1} \\right)} - \\tau_{1} \\cos{\\left(p_{1} \\right)}\\right)$"
      ],
      "text/plain": [
       "-2.0*(-g*k*m2*sin(p1) - g*m1*sin(p1) - g*m2*sin(p1) + 2*k**2*m2*pdot1**2*s2*sin(p1)*cos(p1) + 4*k*m2*pdot1**2*s2*sin(p1)*cos(p1) - k*tau1*cos(p1) + 2*m2*pdot1**2*s2*sin(p1)*cos(p1) - tau1*cos(p1))"
      ]
     },
     "execution_count": 11,
     "metadata": {},
     "output_type": "execute_result"
    }
   ],
   "source": [
    "num, den = sp.together(mod.state_eq)[2].subs(sp.sin(p1)**2, 1-sp.cos(p1)**2).as_numer_denom()\n",
    "num = sp.factor(num)\n",
    "num"
   ]
  },
  {
   "cell_type": "code",
   "execution_count": 12,
   "metadata": {},
   "outputs": [
    {
     "data": {
      "text/latex": [
       "$\\displaystyle - 4.0 s_{2} \\cdot \\left(1.0 k + 1.0\\right) \\left(1.0 k m_{2} \\cos^{2}{\\left(p_{1} \\right)} - 1.0 k m_{2} - 1.0 m_{1} + 1.0 m_{2} \\cos^{2}{\\left(p_{1} \\right)} - 1.0 m_{2}\\right)$"
      ],
      "text/plain": [
       "-4.0*s2*(1.0*k + 1.0)*(1.0*k*m2*cos(p1)**2 - 1.0*k*m2 - 1.0*m1 + 1.0*m2*cos(p1)**2 - 1.0*m2)"
      ]
     },
     "execution_count": 12,
     "metadata": {},
     "output_type": "execute_result"
    }
   ],
   "source": [
    "den = sp.factor(sp.collect(den.expand(), cos(p1)**2))\n",
    "den"
   ]
  },
  {
   "cell_type": "code",
   "execution_count": 13,
   "metadata": {},
   "outputs": [
    {
     "data": {
      "text/latex": [
       "$\\displaystyle \\frac{0.5 \\left(- g k m_{2} \\sin{\\left(p_{1} \\right)} - g m_{1} \\sin{\\left(p_{1} \\right)} - g m_{2} \\sin{\\left(p_{1} \\right)} + 2 k^{2} m_{2} \\dot{p}_{1}^{2} s_{2} \\sin{\\left(p_{1} \\right)} \\cos{\\left(p_{1} \\right)} + 4 k m_{2} \\dot{p}_{1}^{2} s_{2} \\sin{\\left(p_{1} \\right)} \\cos{\\left(p_{1} \\right)} - k \\tau_{1} \\cos{\\left(p_{1} \\right)} + 2 m_{2} \\dot{p}_{1}^{2} s_{2} \\sin{\\left(p_{1} \\right)} \\cos{\\left(p_{1} \\right)} - \\tau_{1} \\cos{\\left(p_{1} \\right)}\\right)}{s_{2} \\cdot \\left(1.0 k + 1.0\\right) \\left(1.0 k m_{2} \\cos^{2}{\\left(p_{1} \\right)} - 1.0 k m_{2} - 1.0 m_{1} + 1.0 m_{2} \\cos^{2}{\\left(p_{1} \\right)} - 1.0 m_{2}\\right)}$"
      ],
      "text/plain": [
       "0.5*(-g*k*m2*sin(p1) - g*m1*sin(p1) - g*m2*sin(p1) + 2*k**2*m2*pdot1**2*s2*sin(p1)*cos(p1) + 4*k*m2*pdot1**2*s2*sin(p1)*cos(p1) - k*tau1*cos(p1) + 2*m2*pdot1**2*s2*sin(p1)*cos(p1) - tau1*cos(p1))/(s2*(1.0*k + 1.0)*(1.0*k*m2*cos(p1)**2 - 1.0*k*m2 - 1.0*m1 + 1.0*m2*cos(p1)**2 - 1.0*m2))"
      ]
     },
     "execution_count": 13,
     "metadata": {},
     "output_type": "execute_result"
    }
   ],
   "source": [
    "num / den"
   ]
  },
  {
   "cell_type": "code",
   "execution_count": 41,
   "metadata": {},
   "outputs": [],
   "source": [
    "xx = mod.x \n",
    "f = mod.ff \n",
    "G = mod.gg \n",
    "g1, = st.col_split(G)"
   ]
  },
  {
   "cell_type": "code",
   "execution_count": 29,
   "metadata": {},
   "outputs": [
    {
     "data": {
      "text/latex": [
       "$\\displaystyle \\left[\\begin{matrix}\\dot{p}_{1}\\\\\\dot{q}_{1}\\\\\\frac{2 g \\sin{\\left(p_{1} \\right)}}{s_{2} \\left(k + 1\\right)}\\\\0\\end{matrix}\\right]$"
      ],
      "text/plain": [
       "Matrix([\n",
       "[                   pdot1],\n",
       "[                   qdot1],\n",
       "[2*g*sin(p1)/(s2*(k + 1))],\n",
       "[                       0]])"
      ]
     },
     "execution_count": 29,
     "metadata": {},
     "output_type": "execute_result"
    }
   ],
   "source": [
    "f"
   ]
  },
  {
   "cell_type": "code",
   "execution_count": 30,
   "metadata": {},
   "outputs": [
    {
     "data": {
      "text/latex": [
       "$\\displaystyle \\left[\\begin{matrix}0\\\\0\\\\- \\frac{2 \\cos{\\left(p_{1} \\right)}}{s_{2}}\\\\1\\end{matrix}\\right]$"
      ],
      "text/plain": [
       "Matrix([\n",
       "[            0],\n",
       "[            0],\n",
       "[-2*cos(p1)/s2],\n",
       "[            1]])"
      ]
     },
     "execution_count": 30,
     "metadata": {},
     "output_type": "execute_result"
    }
   ],
   "source": [
    "G"
   ]
  },
  {
   "cell_type": "code",
   "execution_count": 31,
   "metadata": {},
   "outputs": [],
   "source": [
    "eqp1 = sp.Matrix([0, 0, 0, 0 ]) ##:T\n",
    "eqp2 = sp.Matrix([sp.pi, 0, 0, 0]) ##:T\n",
    "\n",
    "# Probe:\n",
    "assert f.subz(xx, eqp1) == sp.zeros(4,1)\n",
    "assert f.subz(xx, eqp2) == sp.zeros(4,1)"
   ]
  },
  {
   "cell_type": "code",
   "execution_count": 36,
   "metadata": {},
   "outputs": [],
   "source": [
    "# Parameterwerte\n",
    "parameter_values = [(g, 9.81), (s2, .5), (k, 4/3)]\n",
    "replm =  parameter_values + list(zip(xx, eqp1))"
   ]
  },
  {
   "cell_type": "code",
   "execution_count": 37,
   "metadata": {},
   "outputs": [
    {
     "data": {
      "text/latex": [
       "$\\displaystyle \\left[\\begin{matrix}0 & 0 & 1 & 0\\\\0 & 0 & 0 & 1\\\\16.8171428571429 & 0 & 0 & 0\\\\0 & 0 & 0 & 0\\end{matrix}\\right]$"
      ],
      "text/plain": [
       "Matrix([\n",
       "[               0, 0, 1, 0],\n",
       "[               0, 0, 0, 1],\n",
       "[16.8171428571429, 0, 0, 0],\n",
       "[               0, 0, 0, 0]])"
      ]
     },
     "execution_count": 37,
     "metadata": {},
     "output_type": "execute_result"
    }
   ],
   "source": [
    "A1 = f.jacobian(xx).subs(replm) \n",
    "A1"
   ]
  },
  {
   "cell_type": "code",
   "execution_count": 38,
   "metadata": {},
   "outputs": [
    {
     "data": {
      "text/latex": [
       "$\\displaystyle \\left[\\begin{matrix}0\\\\0\\\\-4.0\\\\1\\end{matrix}\\right]$"
      ],
      "text/plain": [
       "Matrix([\n",
       "[   0],\n",
       "[   0],\n",
       "[-4.0],\n",
       "[   1]])"
      ]
     },
     "execution_count": 38,
     "metadata": {},
     "output_type": "execute_result"
    }
   ],
   "source": [
    "b1 = G.subs(replm) \n",
    "b1"
   ]
  },
  {
   "cell_type": "code",
   "execution_count": 39,
   "metadata": {},
   "outputs": [
    {
     "name": "stdout",
     "output_type": "stream",
     "text": [
      "F [[-91.92880151 -99.8980632  -22.34692491 -63.38769963]]\n"
     ]
    },
    {
     "data": {
      "text/plain": [
       "array([-8., -7., -6., -5.])"
      ]
     },
     "execution_count": 39,
     "metadata": {},
     "output_type": "execute_result"
    }
   ],
   "source": [
    "a = 1.2\n",
    "b = 3.4\n",
    "\n",
    "# poles = np.r_[-1.5+a*1j, -1.5-a*1j, -1.3 + b*1j, -1.3 - b*1j] ##:\n",
    "poles = np.linspace(-5, -8, 4)\n",
    "# k1 = st.siso_place(A1, b1, poles)\n",
    "# print(k1)\n",
    "# A1-b1@k1\n",
    "import control as ctrl\n",
    "F = ctrl.place(np.array(A1,dtype=float), np.array(b1,dtype=float), poles)\n",
    "print(\"F\", F)\n",
    "np.linalg.eigvals(np.array(A1, dtype=float)- np.array(b1,dtype=float)@F)\n"
   ]
  },
  {
   "cell_type": "code",
   "execution_count": null,
   "metadata": {},
   "outputs": [
    {
     "data": {
      "text/plain": [
       "{34.4651505758603 - 3.31186942765839e-64*I: 1,\n",
       " -2.68043452853918 - 2.9185170576*I: 1,\n",
       " -3.10428151878197 + 2.55627288704323e-63*I: 1,\n",
       " -2.68043452853918 + 2.9185170576*I: 1}"
      ]
     },
     "execution_count": 124,
     "metadata": {},
     "output_type": "execute_result"
    }
   ],
   "source": [
    "(A1-b1@k1.T).eigenvals()"
   ]
  },
  {
   "attachments": {},
   "cell_type": "markdown",
   "metadata": {},
   "source": [
    "## Equation of Paper\n",
    "https://coneural.org/florian/papers/05_cart_pole.pdf"
   ]
  },
  {
   "cell_type": "code",
   "execution_count": 37,
   "metadata": {},
   "outputs": [
    {
     "data": {
      "text/latex": [
       "$\\displaystyle \\frac{g \\left(m_{1} + m_{2}\\right) \\sin{\\left(\\phi \\right)} + \\left(- m_{2} \\phi_{dot}^{2} s_{2} \\sin{\\left(\\phi \\right)} - \\tau_{1}\\right) \\cos{\\left(\\phi \\right)}}{s_{2} \\left(k \\left(m_{1} + m_{2}\\right) - m_{2} \\cos^{2}{\\left(\\phi \\right)}\\right)}$"
      ],
      "text/plain": [
       "(g*(m1 + m2)*sin(phi) + (-m2*phi_dot**2*s2*sin(phi) - tau1)*cos(phi))/(s2*(k*(m1 + m2) - m2*cos(phi)**2))"
      ]
     },
     "execution_count": 37,
     "metadata": {},
     "output_type": "execute_result"
    }
   ],
   "source": [
    "phi, phi_dot, phi_dot_dot, x, x_dot, x_dot_dot, k = sp.var(\"phi, phi_dot, phi_dot_dot, x, x_dot, x_dot_dot, k\")\n",
    "phi_dot_dot = (g*sin(phi)* (m1+m2) + cos(phi) * ((-tau1 - m2*s2*phi_dot**2*sin(phi)))) / (s2*(k*(m1+m2)-(m2*cos(phi)**2)))\n",
    "x_dot_dot = sp.simplify((tau1 + m2*s2*(phi_dot**2*sin(phi) - phi_dot_dot*cos(phi))) / (m1+m2))\n",
    "phi_dot_dot"
   ]
  },
  {
   "cell_type": "code",
   "execution_count": 38,
   "metadata": {},
   "outputs": [
    {
     "data": {
      "text/latex": [
       "$\\displaystyle \\frac{- \\frac{g m_{2} \\sin{\\left(2 \\phi \\right)}}{2} + k m_{2} \\phi_{dot}^{2} s_{2} \\sin{\\left(\\phi \\right)} + k \\tau_{1}}{k m_{1} + k m_{2} - m_{2} \\cos^{2}{\\left(\\phi \\right)}}$"
      ],
      "text/plain": [
       "(-g*m2*sin(2*phi)/2 + k*m2*phi_dot**2*s2*sin(phi) + k*tau1)/(k*m1 + k*m2 - m2*cos(phi)**2)"
      ]
     },
     "execution_count": 38,
     "metadata": {},
     "output_type": "execute_result"
    }
   ],
   "source": [
    "x_dot_dot"
   ]
  },
  {
   "cell_type": "code",
   "execution_count": 39,
   "metadata": {},
   "outputs": [
    {
     "data": {
      "text/latex": [
       "$\\displaystyle \\left[\\begin{matrix}\\phi\\\\x\\\\\\phi_{dot}\\\\x_{dot}\\end{matrix}\\right]$"
      ],
      "text/plain": [
       "Matrix([\n",
       "[    phi],\n",
       "[      x],\n",
       "[phi_dot],\n",
       "[  x_dot]])"
      ]
     },
     "execution_count": 39,
     "metadata": {},
     "output_type": "execute_result"
    }
   ],
   "source": [
    "xx2 = sp.Matrix([[phi, x, phi_dot, x_dot]]).T\n",
    "xx2"
   ]
  },
  {
   "cell_type": "code",
   "execution_count": 42,
   "metadata": {},
   "outputs": [
    {
     "data": {
      "text/latex": [
       "$\\displaystyle \\left[\\begin{matrix}\\dot{p}_{1}\\\\\\dot{q}_{1}\\\\\\frac{g \\left(m_{1} + m_{2}\\right) \\sin{\\left(p_{1} \\right)} + \\left(- m_{2} \\dot{p}_{1}^{2} s_{2} \\sin{\\left(p_{1} \\right)} - \\tau_{1}\\right) \\cos{\\left(p_{1} \\right)}}{s_{2} \\left(k \\left(m_{1} + m_{2}\\right) - m_{2} \\cos^{2}{\\left(p_{1} \\right)}\\right)}\\\\\\frac{- \\frac{g m_{2} \\sin{\\left(2 p_{1} \\right)}}{2} + k m_{2} \\dot{p}_{1}^{2} s_{2} \\sin{\\left(p_{1} \\right)} + k \\tau_{1}}{k m_{1} + k m_{2} - m_{2} \\cos^{2}{\\left(p_{1} \\right)}}\\end{matrix}\\right]$"
      ],
      "text/plain": [
       "Matrix([\n",
       "[                                                                                              pdot1],\n",
       "[                                                                                              qdot1],\n",
       "[(g*(m1 + m2)*sin(p1) + (-m2*pdot1**2*s2*sin(p1) - tau1)*cos(p1))/(s2*(k*(m1 + m2) - m2*cos(p1)**2))],\n",
       "[              (-g*m2*sin(2*p1)/2 + k*m2*pdot1**2*s2*sin(p1) + k*tau1)/(k*m1 + k*m2 - m2*cos(p1)**2)]])"
      ]
     },
     "execution_count": 42,
     "metadata": {},
     "output_type": "execute_result"
    }
   ],
   "source": [
    "sys = sp.Matrix([[phi_dot, x_dot, phi_dot_dot, x_dot_dot]]).T.subs(zip(xx2, xx))\n",
    "sys"
   ]
  },
  {
   "cell_type": "code",
   "execution_count": 46,
   "metadata": {},
   "outputs": [
    {
     "data": {
      "text/latex": [
       "$\\displaystyle - g m_{2} \\sin{\\left(2 p_{1} \\right)} + 2 k m_{2} \\dot{p}_{1}^{2} s_{2} \\sin{\\left(p_{1} \\right)} + 2 k \\tau_{1} + \\ddot{q}_{1} \\cdot \\left(2 k m_{1} + 2 k m_{2} - 2 m_{2} \\cos^{2}{\\left(p_{1} \\right)}\\right)$"
      ],
      "text/plain": [
       "-g*m2*sin(2*p1) + 2*k*m2*pdot1**2*s2*sin(p1) + 2*k*tau1 + qddot1*(2*k*m1 + 2*k*m2 - 2*m2*cos(p1)**2)"
      ]
     },
     "execution_count": 46,
     "metadata": {},
     "output_type": "execute_result"
    }
   ],
   "source": [
    "num2, den2 = sys[2].as_numer_denom()\n",
    "eq1 = num2 + tthetadd[0] * den2\n",
    "num3, den3 = sys[3].as_numer_denom()\n",
    "eq2 = num3 + tthetadd[1] * den3\n",
    "eq2"
   ]
  },
  {
   "cell_type": "code",
   "execution_count": 53,
   "metadata": {},
   "outputs": [
    {
     "data": {
      "text/latex": [
       "$\\displaystyle \\left[\\begin{matrix}- \\frac{g m_{2} s_{2} \\sin{\\left(p_{1} \\right)}}{2} + k m_{2} \\ddot{p}_{1} s_{2}^{2} + \\frac{m_{2} \\ddot{p}_{1} s_{2}^{2}}{4} + \\frac{m_{2} \\ddot{q}_{1} s_{2} \\cos{\\left(p_{1} \\right)}}{2}\\\\m_{1} \\ddot{q}_{1} + \\frac{m_{2} \\ddot{p}_{1} s_{2} \\cos{\\left(p_{1} \\right)}}{2} - \\frac{m_{2} \\dot{p}_{1}^{2} s_{2} \\sin{\\left(p_{1} \\right)}}{2} + m_{2} \\ddot{q}_{1} - \\tau_{1}\\end{matrix}\\right]$"
      ],
      "text/plain": [
       "Matrix([\n",
       "[-g*m2*s2*sin(p1)/2 + k*m2*pddot1*s2**2 + m2*pddot1*s2**2/4 + m2*qddot1*s2*cos(p1)/2],\n",
       "[   m1*qddot1 + m2*pddot1*s2*cos(p1)/2 - m2*pdot1**2*s2*sin(p1)/2 + m2*qddot1 - tau1]])"
      ]
     },
     "execution_count": 53,
     "metadata": {},
     "output_type": "execute_result"
    }
   ],
   "source": [
    "mod.eqns.subs(J, k*m2*s2**2).expand()"
   ]
  },
  {
   "cell_type": "code",
   "execution_count": 50,
   "metadata": {},
   "outputs": [
    {
     "data": {
      "text/latex": [
       "$\\displaystyle \\left[\\begin{matrix}g \\left(m_{1} + m_{2}\\right) \\sin{\\left(p_{1} \\right)} + \\ddot{p}_{1} s_{2} \\left(k \\left(m_{1} + m_{2}\\right) - m_{2} \\cos^{2}{\\left(p_{1} \\right)}\\right) + \\left(- m_{2} \\dot{p}_{1}^{2} s_{2} \\sin{\\left(p_{1} \\right)} - \\tau_{1}\\right) \\cos{\\left(p_{1} \\right)}\\\\- g m_{2} \\sin{\\left(2 p_{1} \\right)} + 2 k m_{2} \\dot{p}_{1}^{2} s_{2} \\sin{\\left(p_{1} \\right)} + 2 k \\tau_{1} + \\ddot{q}_{1} \\cdot \\left(2 k m_{1} + 2 k m_{2} - 2 m_{2} \\cos^{2}{\\left(p_{1} \\right)}\\right)\\end{matrix}\\right]$"
      ],
      "text/plain": [
       "Matrix([\n",
       "[g*(m1 + m2)*sin(p1) + pddot1*s2*(k*(m1 + m2) - m2*cos(p1)**2) + (-m2*pdot1**2*s2*sin(p1) - tau1)*cos(p1)],\n",
       "[    -g*m2*sin(2*p1) + 2*k*m2*pdot1**2*s2*sin(p1) + 2*k*tau1 + qddot1*(2*k*m1 + 2*k*m2 - 2*m2*cos(p1)**2)]])"
      ]
     },
     "execution_count": 50,
     "metadata": {},
     "output_type": "execute_result"
    }
   ],
   "source": [
    "mod2.eqns"
   ]
  },
  {
   "cell_type": "code",
   "execution_count": 44,
   "metadata": {},
   "outputs": [],
   "source": [
    "mod2 = mt.SymbolicModel()"
   ]
  },
  {
   "cell_type": "code",
   "execution_count": null,
   "metadata": {},
   "outputs": [
    {
     "data": {
      "text/plain": [
       "sympy.matrices.dense.MutableDenseMatrix"
      ]
     },
     "execution_count": 37,
     "metadata": {},
     "output_type": "execute_result"
    }
   ],
   "source": [
    "type(mod.eqns)"
   ]
  },
  {
   "cell_type": "code",
   "execution_count": 47,
   "metadata": {},
   "outputs": [],
   "source": [
    "mod2.tt = ttheta\n",
    "mod2.ttd = tthetad\n",
    "mod2.ttdd = tthetadd\n",
    "mod2.tau = [tau1]\n",
    "mod2.eqns = sp.Matrix([eq1, eq2])\n",
    "mod2.x = xx\n",
    "# mod2.state_eq = sys\n",
    "mod2.calc_coll_part_lin_state_eq(simplify=True)\n",
    "mod2.calc_state_eq()"
   ]
  },
  {
   "cell_type": "code",
   "execution_count": 48,
   "metadata": {},
   "outputs": [
    {
     "data": {
      "text/latex": [
       "$\\displaystyle \\left[\\begin{matrix}\\dot{p}_{1}\\\\\\dot{q}_{1}\\\\\\frac{\\left(- g \\left(m_{1} + m_{2}\\right) \\sin{\\left(p_{1} \\right)} - \\left(- m_{2} \\dot{p}_{1}^{2} s_{2} \\sin{\\left(p_{1} \\right)} - \\tau_{1}\\right) \\cos{\\left(p_{1} \\right)}\\right) \\left(2 k m_{1} + 2 k m_{2} - 2 m_{2} \\cos^{2}{\\left(p_{1} \\right)}\\right)}{2 s_{2} \\left(k m_{1} + k m_{2} - m_{2} \\cos^{2}{\\left(p_{1} \\right)}\\right)^{2}}\\\\\\frac{\\left(k \\left(m_{1} + m_{2}\\right) - m_{2} \\cos^{2}{\\left(p_{1} \\right)}\\right) \\left(g m_{2} \\sin{\\left(2 p_{1} \\right)} - 2 k m_{2} \\dot{p}_{1}^{2} s_{2} \\sin{\\left(p_{1} \\right)} - 2 k \\tau_{1}\\right)}{2 \\left(k m_{1} + k m_{2} - m_{2} \\cos^{2}{\\left(p_{1} \\right)}\\right)^{2}}\\end{matrix}\\right]$"
      ],
      "text/plain": [
       "Matrix([\n",
       "[                                                                                                                                        pdot1],\n",
       "[                                                                                                                                        qdot1],\n",
       "[(-g*(m1 + m2)*sin(p1) - (-m2*pdot1**2*s2*sin(p1) - tau1)*cos(p1))*(2*k*m1 + 2*k*m2 - 2*m2*cos(p1)**2)/(2*s2*(k*m1 + k*m2 - m2*cos(p1)**2)**2)],\n",
       "[                  (k*(m1 + m2) - m2*cos(p1)**2)*(g*m2*sin(2*p1) - 2*k*m2*pdot1**2*s2*sin(p1) - 2*k*tau1)/(2*(k*m1 + k*m2 - m2*cos(p1)**2)**2)]])"
      ]
     },
     "execution_count": 48,
     "metadata": {},
     "output_type": "execute_result"
    }
   ],
   "source": [
    "mod2.state_eq"
   ]
  },
  {
   "cell_type": "code",
   "execution_count": null,
   "metadata": {},
   "outputs": [],
   "source": [
    "repl = parameter_values + list(zip(xx2, eqp1)) + [(m1, 1), (m2, 0.1), (k, 4/3)]"
   ]
  },
  {
   "cell_type": "code",
   "execution_count": null,
   "metadata": {},
   "outputs": [
    {
     "data": {
      "text/latex": [
       "$\\displaystyle \\left[\\begin{matrix}0 & 0 & 1 & 0\\\\0 & 0 & 0 & 1\\\\15.7917073170732 & 0 & 0 & 0\\\\-0.717804878048781 & 0 & 0 & 0\\end{matrix}\\right]$"
      ],
      "text/plain": [
       "Matrix([\n",
       "[                 0, 0, 1, 0],\n",
       "[                 0, 0, 0, 1],\n",
       "[  15.7917073170732, 0, 0, 0],\n",
       "[-0.717804878048781, 0, 0, 0]])"
      ]
     },
     "execution_count": 55,
     "metadata": {},
     "output_type": "execute_result"
    }
   ],
   "source": [
    "A2 = sys.jacobian(xx2).subs(repl) \n",
    "A2\n"
   ]
  },
  {
   "cell_type": "code",
   "execution_count": null,
   "metadata": {},
   "outputs": [
    {
     "data": {
      "text/latex": [
       "$\\displaystyle \\left[\\begin{matrix}0\\\\0\\\\1.46341463414634\\\\-0.975609756097561\\end{matrix}\\right]$"
      ],
      "text/plain": [
       "Matrix([\n",
       "[                 0],\n",
       "[                 0],\n",
       "[  1.46341463414634],\n",
       "[-0.975609756097561]])"
      ]
     },
     "execution_count": 56,
     "metadata": {},
     "output_type": "execute_result"
    }
   ],
   "source": [
    "B2 = - sys.jacobian([tau1]).subs(repl) \n",
    "B2"
   ]
  },
  {
   "cell_type": "code",
   "execution_count": null,
   "metadata": {},
   "outputs": [
    {
     "data": {
      "text/plain": [
       "array([[319.9059545 , 163.46132065,  82.12373114,  94.48559671]])"
      ]
     },
     "execution_count": 72,
     "metadata": {},
     "output_type": "execute_result"
    }
   ],
   "source": [
    "F2 = ctrl.place(np.array(A2,dtype=float), np.array(B2, dtype=float), np.linspace(-6, -8, 4))\n",
    "F2"
   ]
  },
  {
   "cell_type": "code",
   "execution_count": null,
   "metadata": {},
   "outputs": [
    {
     "data": {
      "text/plain": [
       "{-8.00000000003526 - 3.18212098035427e-65*I: 1,\n",
       " -5.99999999996732 - 1.14390484568382e-64*I: 1,\n",
       " -7.33333333314472 + 2.61435543279885e-64*I: 1,\n",
       " -6.66666666675365 + 3.8311135891318e-67*I: 1}"
      ]
     },
     "execution_count": 73,
     "metadata": {},
     "output_type": "execute_result"
    }
   ],
   "source": [
    "(A2-B2@F2).eigenvals()"
   ]
  },
  {
   "attachments": {},
   "cell_type": "markdown",
   "metadata": {},
   "source": [
    "Vergleich oben unten"
   ]
  },
  {
   "cell_type": "code",
   "execution_count": null,
   "metadata": {},
   "outputs": [
    {
     "data": {
      "text/latex": [
       "$\\displaystyle \\left[\\begin{matrix}0\\\\0\\\\\\frac{0.25 \\cdot \\left(2.0 \\left(k \\left(m_{1} + m_{2}\\right) - m_{2} \\cos^{2}{\\left(p_{1} \\right)}\\right) \\left(- g \\left(k m_{2} + m_{1} + m_{2}\\right) \\sin{\\left(p_{1} \\right)} + \\left(k + 1\\right) \\left(2 k m_{2} \\dot{p}_{1}^{2} s_{2} \\sin{\\left(p_{1} \\right)} + 2 m_{2} \\dot{p}_{1}^{2} s_{2} \\sin{\\left(p_{1} \\right)} - \\tau_{1}\\right) \\cos{\\left(p_{1} \\right)}\\right) + \\left(g \\left(m_{1} + m_{2}\\right) \\sin{\\left(p_{1} \\right)} - \\left(m_{2} \\dot{p}_{1}^{2} s_{2} \\sin{\\left(p_{1} \\right)} + \\tau_{1}\\right) \\cos{\\left(p_{1} \\right)}\\right) \\left(4.0 k^{2} m_{2} \\sin^{2}{\\left(p_{1} \\right)} + 4.0 k m_{1} + 8.0 k m_{2} \\sin^{2}{\\left(p_{1} \\right)} + 4.0 m_{1} + 4.0 m_{2} \\sin^{2}{\\left(p_{1} \\right)}\\right)\\right)}{s_{2} \\left(k \\left(m_{1} + m_{2}\\right) - m_{2} \\cos^{2}{\\left(p_{1} \\right)}\\right) \\left(k^{2} m_{2} \\sin^{2}{\\left(p_{1} \\right)} + k m_{1} + 2 k m_{2} \\sin^{2}{\\left(p_{1} \\right)} + m_{1} + m_{2} \\sin^{2}{\\left(p_{1} \\right)}\\right)}\\\\\\frac{0.125 \\cdot \\left(4.0 \\left(k + 1\\right) \\left(k m_{1} + k m_{2} - m_{2} \\cos^{2}{\\left(p_{1} \\right)}\\right) \\left(- g m_{2} \\sin{\\left(2 p_{1} \\right)} + 4 k m_{2} \\dot{p}_{1}^{2} s_{2} \\sin{\\left(p_{1} \\right)} + 4 m_{2} \\dot{p}_{1}^{2} s_{2} \\sin{\\left(p_{1} \\right)} - 2 \\tau_{1}\\right) + \\left(- g m_{2} \\sin{\\left(2 p_{1} \\right)} + 2 k m_{2} \\dot{p}_{1}^{2} s_{2} \\sin{\\left(p_{1} \\right)} + 2 k \\tau_{1}\\right) \\left(4.0 k^{2} m_{2} \\sin^{2}{\\left(p_{1} \\right)} + 4.0 k m_{1} + 8.0 k m_{2} \\sin^{2}{\\left(p_{1} \\right)} + 4.0 m_{1} + 4.0 m_{2} \\sin^{2}{\\left(p_{1} \\right)}\\right)\\right)}{\\left(k m_{1} + k m_{2} - m_{2} \\cos^{2}{\\left(p_{1} \\right)}\\right) \\left(k^{2} m_{2} \\sin^{2}{\\left(p_{1} \\right)} + k m_{1} + 2 k m_{2} \\sin^{2}{\\left(p_{1} \\right)} + m_{1} + m_{2} \\sin^{2}{\\left(p_{1} \\right)}\\right)}\\end{matrix}\\right]$"
      ],
      "text/plain": [
       "Matrix([\n",
       "[                                                                                                                                                                                                                                                                                                                                                                                                                       0],\n",
       "[                                                                                                                                                                                                                                                                                                                                                                                                                       0],\n",
       "[0.25*(2.0*(k*(m1 + m2) - m2*cos(p1)**2)*(-g*(k*m2 + m1 + m2)*sin(p1) + (k + 1)*(2*k*m2*pdot1**2*s2*sin(p1) + 2*m2*pdot1**2*s2*sin(p1) - tau1)*cos(p1)) + (g*(m1 + m2)*sin(p1) - (m2*pdot1**2*s2*sin(p1) + tau1)*cos(p1))*(4.0*k**2*m2*sin(p1)**2 + 4.0*k*m1 + 8.0*k*m2*sin(p1)**2 + 4.0*m1 + 4.0*m2*sin(p1)**2))/(s2*(k*(m1 + m2) - m2*cos(p1)**2)*(k**2*m2*sin(p1)**2 + k*m1 + 2*k*m2*sin(p1)**2 + m1 + m2*sin(p1)**2))],\n",
       "[                            0.125*(4.0*(k + 1)*(k*m1 + k*m2 - m2*cos(p1)**2)*(-g*m2*sin(2*p1) + 4*k*m2*pdot1**2*s2*sin(p1) + 4*m2*pdot1**2*s2*sin(p1) - 2*tau1) + (-g*m2*sin(2*p1) + 2*k*m2*pdot1**2*s2*sin(p1) + 2*k*tau1)*(4.0*k**2*m2*sin(p1)**2 + 4.0*k*m1 + 8.0*k*m2*sin(p1)**2 + 4.0*m1 + 4.0*m2*sin(p1)**2))/((k*m1 + k*m2 - m2*cos(p1)**2)*(k**2*m2*sin(p1)**2 + k*m1 + 2*k*m2*sin(p1)**2 + m1 + m2*sin(p1)**2))]])"
      ]
     },
     "execution_count": 138,
     "metadata": {},
     "output_type": "execute_result"
    }
   ],
   "source": [
    "diff = sp.simplify(mod2.state_eq.subs(list(zip(xx2, xx))) - mod.state_eq)"
   ]
  },
  {
   "cell_type": "code",
   "execution_count": null,
   "metadata": {},
   "outputs": [
    {
     "data": {
      "text/latex": [
       "$\\displaystyle \\left[\\begin{matrix}\\dot{p}_{1}\\\\\\dot{q}_{1}\\\\\\frac{g \\left(m_{1} + m_{2}\\right) \\sin{\\left(p_{1} \\right)} + \\left(- m_{2} \\dot{p}_{1}^{2} s_{2} \\sin{\\left(p_{1} \\right)} - \\tau_{1}\\right) \\cos{\\left(p_{1} \\right)}}{s_{2} \\left(k \\left(m_{1} + m_{2}\\right) - m_{2} \\cos^{2}{\\left(p_{1} \\right)}\\right)}\\\\\\frac{- \\frac{g m_{2} \\sin{\\left(2 p_{1} \\right)}}{2} + k m_{2} \\dot{p}_{1}^{2} s_{2} \\sin{\\left(p_{1} \\right)} + k \\tau_{1}}{k m_{1} + k m_{2} - m_{2} \\cos^{2}{\\left(p_{1} \\right)}}\\end{matrix}\\right]$"
      ],
      "text/plain": [
       "Matrix([\n",
       "[                                                                                              pdot1],\n",
       "[                                                                                              qdot1],\n",
       "[(g*(m1 + m2)*sin(p1) + (-m2*pdot1**2*s2*sin(p1) - tau1)*cos(p1))/(s2*(k*(m1 + m2) - m2*cos(p1)**2))],\n",
       "[              (-g*m2*sin(2*p1)/2 + k*m2*pdot1**2*s2*sin(p1) + k*tau1)/(k*m1 + k*m2 - m2*cos(p1)**2)]])"
      ]
     },
     "execution_count": 144,
     "metadata": {},
     "output_type": "execute_result"
    }
   ],
   "source": [
    "mod2.state_eq.subs(list(zip(xx2, xx)))"
   ]
  }
 ],
 "metadata": {
  "kernelspec": {
   "display_name": "da",
   "language": "python",
   "name": "python3"
  },
  "language_info": {
   "codemirror_mode": {
    "name": "ipython",
    "version": 3
   },
   "file_extension": ".py",
   "mimetype": "text/x-python",
   "name": "python",
   "nbconvert_exporter": "python",
   "pygments_lexer": "ipython3",
   "version": "3.11.5"
  },
  "orig_nbformat": 4,
  "vscode": {
   "interpreter": {
    "hash": "7a5251e7a0f2a79c62d3605fc843efca3d324516acff077044b5da8d168dd566"
   }
  }
 },
 "nbformat": 4,
 "nbformat_minor": 2
}
