{
 "cells": [
  {
   "cell_type": "code",
   "execution_count": 1,
   "metadata": {},
   "outputs": [],
   "source": [
    "import sympy as sp\n",
    "from sympy import sin, cos, pi\n",
    "from sympy.interactive import printing\n",
    "import pickle\n",
    "import numpy as np\n",
    "import scipy as sc\n",
    "import scipy.interpolate\n",
    "from scipy.integrate import odeint\n",
    "import matplotlib.pyplot as pl\n",
    "\n",
    "import symbtools as st\n",
    "import symbtools.modeltools as mt\n",
    "import symbtools.noncommutativetools as nct"
   ]
  },
  {
   "cell_type": "code",
   "execution_count": 3,
   "metadata": {},
   "outputs": [],
   "source": [
    "t = sp.Symbol('t')\n",
    "Np = 1\n",
    "Nq = 1\n",
    "n = Np + Nq\n",
    "pp = st.symb_vector(\"p1:{0}\".format(Np+1))\n",
    "qq = st.symb_vector(\"q1:{0}\".format(Nq+1))\n",
    "aa = st.symb_vector(\"a1:{0}\".format(Nq+1))\n",
    "ww = st.symb_vector(\"w1:{0}\".format(Nq+1))\n",
    "\n",
    "ttheta = st.row_stack(pp, qq) ##:T\n",
    "tthetad = st.time_deriv(ttheta, ttheta) ##:T\n",
    "tthetadd = st.time_deriv(ttheta, ttheta, order=2) ##:T\n",
    "st.make_global(ttheta, tthetad)"
   ]
  },
  {
   "cell_type": "code",
   "execution_count": 4,
   "metadata": {},
   "outputs": [],
   "source": [
    "params = sp.symbols('m1, m2, s2, g')\n",
    "st.make_global(params)\n",
    "\n",
    "tau1 = sp.Symbol(\"tau1\")"
   ]
  },
  {
   "cell_type": "code",
   "execution_count": 6,
   "metadata": {},
   "outputs": [],
   "source": [
    "#Einheitsvektoren\n",
    "ex = sp.Matrix([1,0])\n",
    "ey = sp.Matrix([0,1])\n",
    "\n",
    "\n",
    "# Koordinaten der Schwerpunkte und Gelenke\n",
    "S1 = ex*q1 # Schwerpunkt Wagen\n",
    "G2 = S1 # Pendel-Gelenk\n",
    "\n",
    "# Schwerpunkt des Pendels (Pendel zeigt für kleine Winkel nach #! OBEN)\n",
    "S2 = G2 + mt.Rz(p1)*(ey)*s2\n",
    "\n",
    "# Zeitableitungen der Schwerpunktskoordinaten\n",
    "Sd1, Sd2  = st.col_split(st.time_deriv(st.col_stack(S1, S2), ttheta)) ##"
   ]
  },
  {
   "cell_type": "code",
   "execution_count": 7,
   "metadata": {},
   "outputs": [],
   "source": [
    "# Energie\n",
    "T_rot = 0 # (Punktmassenmodell)\n",
    "T_trans = ( m1*Sd1.T*Sd1  +  m2*Sd2.T*Sd2 )/2\n",
    "\n",
    "T = T_rot + T_trans[0]\n",
    "\n",
    "V = m2*g*S2[1]"
   ]
  },
  {
   "cell_type": "code",
   "execution_count": 11,
   "metadata": {},
   "outputs": [],
   "source": [
    "mod = mt.generate_symbolic_model(T, V, ttheta, [0, tau1])"
   ]
  },
  {
   "cell_type": "code",
   "execution_count": 12,
   "metadata": {},
   "outputs": [
    {
     "data": {
      "text/latex": [
       "$\\displaystyle \\left[\\begin{matrix}m_{2} s_{2}^{2} & - m_{2} s_{2} \\cos{\\left(p_{1} \\right)}\\\\- m_{2} s_{2} \\cos{\\left(p_{1} \\right)} & m_{1} + m_{2}\\end{matrix}\\right]$"
      ],
      "text/plain": [
       "Matrix([\n",
       "[      m2*s2**2, -m2*s2*cos(p1)],\n",
       "[-m2*s2*cos(p1),        m1 + m2]])"
      ]
     },
     "execution_count": 12,
     "metadata": {},
     "output_type": "execute_result"
    }
   ],
   "source": [
    "mod.MM.simplify()\n",
    "mod.MM"
   ]
  },
  {
   "cell_type": "code",
   "execution_count": 16,
   "metadata": {},
   "outputs": [],
   "source": [
    "mod.calc_coll_part_lin_state_eq(simplify=True)"
   ]
  },
  {
   "cell_type": "code",
   "execution_count": 35,
   "metadata": {},
   "outputs": [
    {
     "data": {
      "text/latex": [
       "$\\displaystyle \\left[\\begin{matrix}\\dot{p}_{1}\\\\\\dot{q}_{1}\\\\\\frac{g \\sin{\\left(p_{1} \\right)}}{s_{2}}\\\\0\\end{matrix}\\right]$"
      ],
      "text/plain": [
       "Matrix([\n",
       "[       pdot1],\n",
       "[       qdot1],\n",
       "[g*sin(p1)/s2],\n",
       "[           0]])"
      ]
     },
     "execution_count": 35,
     "metadata": {},
     "output_type": "execute_result"
    }
   ],
   "source": [
    "mod.ff"
   ]
  },
  {
   "cell_type": "code",
   "execution_count": 19,
   "metadata": {},
   "outputs": [],
   "source": [
    "xx = mod.x \n",
    "f = mod.ff \n",
    "G = mod.gg \n",
    "g1, = st.col_split(G)"
   ]
  },
  {
   "cell_type": "code",
   "execution_count": 26,
   "metadata": {},
   "outputs": [],
   "source": [
    "eqp1 = sp.Matrix([0, 0, 0, 0 ]) ##:T\n",
    "eqp2 = sp.Matrix([sp.pi, 0, 0, 0]) ##:T\n",
    "\n",
    "# Probe:\n",
    "assert f.subz(xx, eqp1) == sp.zeros(4,1)\n",
    "assert f.subz(xx, eqp2) == sp.zeros(4,1)"
   ]
  },
  {
   "cell_type": "code",
   "execution_count": 29,
   "metadata": {},
   "outputs": [],
   "source": [
    "# Parameterwerte\n",
    "parameter_values = [(g, 9.81), (s2, .5)]\n",
    "replm =  parameter_values + list(zip(xx, eqp1))"
   ]
  },
  {
   "cell_type": "code",
   "execution_count": 31,
   "metadata": {},
   "outputs": [
    {
     "data": {
      "text/latex": [
       "$\\displaystyle \\left[\\begin{matrix}0 & 0 & 1 & 0\\\\0 & 0 & 0 & 1\\\\19.62 & 0 & 0 & 0\\\\0 & 0 & 0 & 0\\end{matrix}\\right]$"
      ],
      "text/plain": [
       "Matrix([\n",
       "[    0, 0, 1, 0],\n",
       "[    0, 0, 0, 1],\n",
       "[19.62, 0, 0, 0],\n",
       "[    0, 0, 0, 0]])"
      ]
     },
     "execution_count": 31,
     "metadata": {},
     "output_type": "execute_result"
    }
   ],
   "source": [
    "A1 = f.jacobian(xx).subs(replm) \n",
    "A1"
   ]
  },
  {
   "cell_type": "code",
   "execution_count": 33,
   "metadata": {},
   "outputs": [
    {
     "data": {
      "text/latex": [
       "$\\displaystyle \\left[\\begin{matrix}0\\\\0\\\\2.0\\\\1\\end{matrix}\\right]$"
      ],
      "text/plain": [
       "Matrix([\n",
       "[  0],\n",
       "[  0],\n",
       "[2.0],\n",
       "[  1]])"
      ]
     },
     "execution_count": 33,
     "metadata": {},
     "output_type": "execute_result"
    }
   ],
   "source": [
    "b1 = G.subs(replm) \n",
    "b1"
   ]
  },
  {
   "cell_type": "code",
   "execution_count": 51,
   "metadata": {},
   "outputs": [
    {
     "name": "stdout",
     "output_type": "stream",
     "text": [
      "Matrix([[-23.4259862385321], [2.49197247706422], [-4.05749235474006], [2.51498470948012]])\n",
      "F [[23.42598624 -2.49197248  4.05749235 -2.51498471]]\n"
     ]
    },
    {
     "data": {
      "text/plain": [
       "array([-1.3+3.4j, -1.3-3.4j, -1.5+1.2j, -1.5-1.2j])"
      ]
     },
     "execution_count": 51,
     "metadata": {},
     "output_type": "execute_result"
    }
   ],
   "source": [
    "a = 1.2\n",
    "b = 3.4\n",
    "\n",
    "poles = np.r_[-1.5+a*1j, -1.5-a*1j, -1.3 + b*1j, -1.3 - b*1j] ##:\n",
    "k1 = st.siso_place(A1, b1, poles)\n",
    "print(k1)\n",
    "# A1-b1@k1\n",
    "import control as ctrl\n",
    "F = ctrl.place(np.array(A1,dtype=float), np.array(b1,dtype=float), poles)\n",
    "print(\"F\", F)\n",
    "np.linalg.eigvals(np.array(A1, dtype=float)- np.array(b1,dtype=float)@F)\n"
   ]
  },
  {
   "cell_type": "code",
   "execution_count": 49,
   "metadata": {},
   "outputs": [
    {
     "data": {
      "text/plain": [
       "{11.5442107450404 - 4.46351031349122e-63*I: 1,\n",
       " -5.20933544396007 + 4.94903402628429e-63*I: 1,\n",
       " -0.367437650540142 - 0.823407052335835*I: 1,\n",
       " -0.367437650540142 + 0.823407052335835*I: 1}"
      ]
     },
     "execution_count": 49,
     "metadata": {},
     "output_type": "execute_result"
    }
   ],
   "source": [
    "(A1-b1@k1.T).eigenvals()"
   ]
  }
 ],
 "metadata": {
  "kernelspec": {
   "display_name": "da",
   "language": "python",
   "name": "python3"
  },
  "language_info": {
   "codemirror_mode": {
    "name": "ipython",
    "version": 3
   },
   "file_extension": ".py",
   "mimetype": "text/x-python",
   "name": "python",
   "nbconvert_exporter": "python",
   "pygments_lexer": "ipython3",
   "version": "3.8.16"
  },
  "orig_nbformat": 4,
  "vscode": {
   "interpreter": {
    "hash": "7a5251e7a0f2a79c62d3605fc843efca3d324516acff077044b5da8d168dd566"
   }
  }
 },
 "nbformat": 4,
 "nbformat_minor": 2
}
