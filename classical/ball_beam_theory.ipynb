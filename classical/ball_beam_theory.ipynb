{
 "cells": [
  {
   "cell_type": "code",
   "execution_count": 32,
   "metadata": {},
   "outputs": [],
   "source": [
    "import sympy as sp\n",
    "from sympy import sin, cos, pi\n",
    "from sympy.interactive import printing\n",
    "import pickle\n",
    "import numpy as np\n",
    "import scipy as sc\n",
    "import scipy.interpolate\n",
    "from scipy.integrate import odeint\n",
    "import matplotlib.pyplot as plt\n",
    "\n",
    "import symbtools as st\n",
    "import symbtools.modeltools as mt\n",
    "import symbtools.noncommutativetools as nct"
   ]
  },
  {
   "cell_type": "code",
   "execution_count": 33,
   "metadata": {},
   "outputs": [],
   "source": [
    "t = sp.Symbol('t')\n",
    "Np = 2\n",
    "Nq = 0\n",
    "n = Np + Nq\n",
    "pp = st.symb_vector(\"p1:{0}\".format(Np+1))\n",
    "qq = st.symb_vector(\"q1:{0}\".format(Nq+1))\n",
    "aa = st.symb_vector(\"a1:{0}\".format(Nq+1))\n",
    "ww = st.symb_vector(\"w1:{0}\".format(Nq+1))\n",
    "\n",
    "ttheta = st.row_stack(pp, qq) ##:T\n",
    "tthetad = st.time_deriv(ttheta, ttheta) ##:T\n",
    "tthetadd = st.time_deriv(ttheta, ttheta, order=2) ##:T\n",
    "st.make_global(ttheta, tthetad)"
   ]
  },
  {
   "cell_type": "code",
   "execution_count": 34,
   "metadata": {},
   "outputs": [],
   "source": [
    "params = sp.symbols('m, J, Jb, r, g')\n",
    "st.make_global(params)\n",
    "B = m / (Jb/r**2 + m)\n",
    "\n",
    "tau1 = sp.Symbol(\"tau1\")"
   ]
  },
  {
   "cell_type": "code",
   "execution_count": 52,
   "metadata": {},
   "outputs": [],
   "source": [
    "#Einheitsvektoren\n",
    "ex = sp.Matrix([1,0])\n",
    "ey = sp.Matrix([0,1])\n",
    "\n",
    "# p1 = r\n",
    "# p2 = phi\n",
    "# Koordinaten der Schwerpunkte und Gelenke\n",
    "S1 = 0 # Schwerpunkt Wippe\n",
    "\n",
    "\n",
    "# S2 = p1 * mt.Rz(p2) * ex\n",
    "S2 = mt.Rz(p2) * sp.Matrix([p1, r])\n",
    "\n",
    "# Zeitableitungen der Schwerpunktskoordinaten\n",
    "Sd2  = st.time_deriv(S2, ttheta) ##"
   ]
  },
  {
   "cell_type": "code",
   "execution_count": 54,
   "metadata": {},
   "outputs": [
    {
     "data": {
      "text/latex": [
       "$\\displaystyle \\left[\\begin{matrix}p_{1} \\cos{\\left(p_{2} \\right)} - r \\sin{\\left(p_{2} \\right)}\\\\p_{1} \\sin{\\left(p_{2} \\right)} + r \\cos{\\left(p_{2} \\right)}\\end{matrix}\\right]$"
      ],
      "text/plain": [
       "Matrix([\n",
       "[p1*cos(p2) - r*sin(p2)],\n",
       "[p1*sin(p2) + r*cos(p2)]])"
      ]
     },
     "execution_count": 54,
     "metadata": {},
     "output_type": "execute_result"
    }
   ],
   "source": [
    "S2"
   ]
  },
  {
   "cell_type": "code",
   "execution_count": 55,
   "metadata": {},
   "outputs": [],
   "source": [
    "# Energie\n",
    "T_trans = (m * Sd2.T * Sd2) / 2  # translation energy\n",
    "T_rot = (J * pdot2**2 + Jb * pdot2**2 + Jb * (pdot1 / r) ** 2) / 2  # rotation energy\n",
    "T = T_trans[0] + T_rot\n",
    "V = m * g * S2[1]"
   ]
  },
  {
   "cell_type": "code",
   "execution_count": 57,
   "metadata": {},
   "outputs": [
    {
     "data": {
      "text/latex": [
       "$\\displaystyle \\left[\\begin{matrix}\\frac{Jb \\ddot{p}_{1}}{r^{2}} + m \\ddot{p}_{1} - m \\ddot{p}_{2} r\\\\J \\ddot{p}_{2} + Jb \\ddot{p}_{2} + m p_{1}^{2} \\ddot{p}_{2} + 2 m p_{1} \\dot{p}_{1} \\dot{p}_{2} - m \\ddot{p}_{1} r + m \\ddot{p}_{2} r^{2}\\end{matrix}\\right]$"
      ],
      "text/plain": [
       "Matrix([\n",
       "[                                                 Jb*pddot1/r**2 + m*pddot1 - m*pddot2*r],\n",
       "[J*pddot2 + Jb*pddot2 + m*p1**2*pddot2 + 2*m*p1*pdot1*pdot2 - m*pddot1*r + m*pddot2*r**2]])"
      ]
     },
     "execution_count": 57,
     "metadata": {},
     "output_type": "execute_result"
    }
   ],
   "source": [
    "L = T + V\n",
    "dLdqd = sp.Derivative(L, tthetad).doit().simplify()\n",
    "dLdq = sp.Derivative(L, ttheta).doit().simplify()\n",
    "ddLdqddt = st.time_deriv(dLdqd, ttheta).simplify()\n",
    "ddLdqddt\n"
   ]
  },
  {
   "cell_type": "code",
   "execution_count": 58,
   "metadata": {},
   "outputs": [],
   "source": [
    "mod = mt.generate_symbolic_model(T, V, ttheta, [0, tau1])"
   ]
  },
  {
   "cell_type": "code",
   "execution_count": 59,
   "metadata": {},
   "outputs": [
    {
     "data": {
      "text/latex": [
       "$\\displaystyle \\left[\\begin{matrix}\\frac{Jb}{r^{2}} + m & - m r\\\\- m r & J + Jb + m p_{1}^{2} + m r^{2}\\end{matrix}\\right]$"
      ],
      "text/plain": [
       "Matrix([\n",
       "[Jb/r**2 + m,                      -m*r],\n",
       "[       -m*r, J + Jb + m*p1**2 + m*r**2]])"
      ]
     },
     "execution_count": 59,
     "metadata": {},
     "output_type": "execute_result"
    }
   ],
   "source": [
    "mod.MM.simplify()\n",
    "mod.MM"
   ]
  },
  {
   "cell_type": "code",
   "execution_count": 60,
   "metadata": {},
   "outputs": [
    {
     "data": {
      "text/latex": [
       "$\\displaystyle \\left[\\begin{matrix}\\frac{Jb \\ddot{p}_{1}}{r^{2}} + g m \\sin{\\left(p_{2} \\right)} - m p_{1} \\dot{p}_{2}^{2} + m \\ddot{p}_{1} - m \\ddot{p}_{2} r\\\\J \\ddot{p}_{2} + Jb \\ddot{p}_{2} + g m p_{1} \\cos{\\left(p_{2} \\right)} - g m r \\sin{\\left(p_{2} \\right)} + m p_{1}^{2} \\ddot{p}_{2} + 2 m p_{1} \\dot{p}_{1} \\dot{p}_{2} - m \\ddot{p}_{1} r + m \\ddot{p}_{2} r^{2} - \\tau_{1}\\end{matrix}\\right]$"
      ],
      "text/plain": [
       "Matrix([\n",
       "[                                                           Jb*pddot1/r**2 + g*m*sin(p2) - m*p1*pdot2**2 + m*pddot1 - m*pddot2*r],\n",
       "[J*pddot2 + Jb*pddot2 + g*m*p1*cos(p2) - g*m*r*sin(p2) + m*p1**2*pddot2 + 2*m*p1*pdot1*pdot2 - m*pddot1*r + m*pddot2*r**2 - tau1]])"
      ]
     },
     "execution_count": 60,
     "metadata": {},
     "output_type": "execute_result"
    }
   ],
   "source": [
    "mod.eqns"
   ]
  },
  {
   "cell_type": "code",
   "execution_count": 44,
   "metadata": {},
   "outputs": [
    {
     "data": {
      "text/latex": [
       "$\\displaystyle \\left[\\begin{matrix}\\frac{Jb \\ddot{p}_{1}}{r^{2}} + g m \\sin{\\left(p_{2} \\right)} - m p_{1} \\dot{p}_{2}^{2} + m \\ddot{p}_{1}\\\\J \\ddot{p}_{2} + Jb \\ddot{p}_{2} + g m p_{1} \\cos{\\left(p_{2} \\right)} + m p_{1}^{2} \\ddot{p}_{2} + 2 m p_{1} \\dot{p}_{1} \\dot{p}_{2} - \\tau_{1}\\end{matrix}\\right]$"
      ],
      "text/plain": [
       "Matrix([\n",
       "[                           Jb*pddot1/r**2 + g*m*sin(p2) - m*p1*pdot2**2 + m*pddot1],\n",
       "[J*pddot2 + Jb*pddot2 + g*m*p1*cos(p2) + m*p1**2*pddot2 + 2*m*p1*pdot1*pdot2 - tau1]])"
      ]
     },
     "execution_count": 44,
     "metadata": {},
     "output_type": "execute_result"
    }
   ],
   "source": [
    "mod.eqns # mit hauser ansatz"
   ]
  },
  {
   "cell_type": "code",
   "execution_count": 61,
   "metadata": {},
   "outputs": [
    {
     "data": {
      "text/latex": [
       "$\\displaystyle \\left[\\begin{matrix}\\dot{p}_{1}\\\\\\dot{p}_{2}\\\\\\frac{m r^{2} \\left(- r \\left(g m p_{1} \\cos{\\left(p_{2} \\right)} - g m r \\sin{\\left(p_{2} \\right)} + 2 m p_{1} \\dot{p}_{1} \\dot{p}_{2} - \\tau_{1}\\right) + \\left(g \\sin{\\left(p_{2} \\right)} - p_{1} \\dot{p}_{2}^{2}\\right) \\left(- J - Jb - m p_{1}^{2} - m r^{2}\\right)\\right)}{J Jb + Jb^{2} + Jb m p_{1}^{2} + m r^{2} \\left(J + 2 Jb + m p_{1}^{2}\\right)}\\\\\\frac{- m^{2} r^{3} \\left(g \\sin{\\left(p_{2} \\right)} - p_{1} \\dot{p}_{2}^{2}\\right) + \\left(- Jb - m r^{2}\\right) \\left(g m p_{1} \\cos{\\left(p_{2} \\right)} - g m r \\sin{\\left(p_{2} \\right)} + 2 m p_{1} \\dot{p}_{1} \\dot{p}_{2} - \\tau_{1}\\right)}{J Jb + Jb^{2} + Jb m p_{1}^{2} + m r^{2} \\left(J + 2 Jb + m p_{1}^{2}\\right)}\\end{matrix}\\right]$"
      ],
      "text/plain": [
       "Matrix([\n",
       "[                                                                                                                                                                                      pdot1],\n",
       "[                                                                                                                                                                                      pdot2],\n",
       "[m*r**2*(-r*(g*m*p1*cos(p2) - g*m*r*sin(p2) + 2*m*p1*pdot1*pdot2 - tau1) + (g*sin(p2) - p1*pdot2**2)*(-J - Jb - m*p1**2 - m*r**2))/(J*Jb + Jb**2 + Jb*m*p1**2 + m*r**2*(J + 2*Jb + m*p1**2))],\n",
       "[             (-m**2*r**3*(g*sin(p2) - p1*pdot2**2) + (-Jb - m*r**2)*(g*m*p1*cos(p2) - g*m*r*sin(p2) + 2*m*p1*pdot1*pdot2 - tau1))/(J*Jb + Jb**2 + Jb*m*p1**2 + m*r**2*(J + 2*Jb + m*p1**2))]])"
      ]
     },
     "execution_count": 61,
     "metadata": {},
     "output_type": "execute_result"
    }
   ],
   "source": [
    "mod.calc_state_eq(simplify=True)\n",
    "sp.simplify(mod.state_eq)"
   ]
  },
  {
   "cell_type": "code",
   "execution_count": 62,
   "metadata": {},
   "outputs": [
    {
     "data": {
      "text/latex": [
       "$\\displaystyle p_{1}$"
      ],
      "text/plain": [
       "p1"
      ]
     },
     "execution_count": 62,
     "metadata": {},
     "output_type": "execute_result"
    }
   ],
   "source": [
    "# https://www.diag.uniroma1.it/~oriolo/ur/material/ReactionWheel.pdf\n",
    "# for 3 states:\n",
    "h = p1\n",
    "h"
   ]
  },
  {
   "cell_type": "code",
   "execution_count": 47,
   "metadata": {},
   "outputs": [],
   "source": [
    "# for 4 states:\n",
    "# h = J1*p1 + I2*p2"
   ]
  },
  {
   "cell_type": "code",
   "execution_count": 63,
   "metadata": {},
   "outputs": [
    {
     "data": {
      "text/latex": [
       "$\\displaystyle \\left[\\begin{matrix}\\dot{p}_{1}\\\\\\dot{p}_{2}\\\\\\frac{m r \\left(- g m p_{1} \\cos{\\left(p_{2} \\right)} + g m r \\sin{\\left(p_{2} \\right)} - 2 m p_{1} \\dot{p}_{1} \\dot{p}_{2}\\right)}{\\frac{J Jb}{r^{2}} + J m + \\frac{Jb^{2}}{r^{2}} + \\frac{Jb m p_{1}^{2}}{r^{2}} + 2 Jb m + m^{2} p_{1}^{2}} + \\frac{\\left(- g m \\sin{\\left(p_{2} \\right)} + m p_{1} \\dot{p}_{2}^{2}\\right) \\left(J + Jb + m p_{1}^{2} + m r^{2}\\right)}{\\frac{J Jb}{r^{2}} + J m + \\frac{Jb^{2}}{r^{2}} + \\frac{Jb m p_{1}^{2}}{r^{2}} + 2 Jb m + m^{2} p_{1}^{2}}\\\\\\frac{m r \\left(- g m \\sin{\\left(p_{2} \\right)} + m p_{1} \\dot{p}_{2}^{2}\\right)}{\\frac{J Jb}{r^{2}} + J m + \\frac{Jb^{2}}{r^{2}} + \\frac{Jb m p_{1}^{2}}{r^{2}} + 2 Jb m + m^{2} p_{1}^{2}} + \\frac{\\left(\\frac{Jb}{r^{2}} + m\\right) \\left(- g m p_{1} \\cos{\\left(p_{2} \\right)} + g m r \\sin{\\left(p_{2} \\right)} - 2 m p_{1} \\dot{p}_{1} \\dot{p}_{2}\\right)}{\\frac{J Jb}{r^{2}} + J m + \\frac{Jb^{2}}{r^{2}} + \\frac{Jb m p_{1}^{2}}{r^{2}} + 2 Jb m + m^{2} p_{1}^{2}}\\end{matrix}\\right]$"
      ],
      "text/plain": [
       "Matrix([\n",
       "[                                                                                                                                                                                                                                                                pdot1],\n",
       "[                                                                                                                                                                                                                                                                pdot2],\n",
       "[m*r*(-g*m*p1*cos(p2) + g*m*r*sin(p2) - 2*m*p1*pdot1*pdot2)/(J*Jb/r**2 + J*m + Jb**2/r**2 + Jb*m*p1**2/r**2 + 2*Jb*m + m**2*p1**2) + (-g*m*sin(p2) + m*p1*pdot2**2)*(J + Jb + m*p1**2 + m*r**2)/(J*Jb/r**2 + J*m + Jb**2/r**2 + Jb*m*p1**2/r**2 + 2*Jb*m + m**2*p1**2)],\n",
       "[              m*r*(-g*m*sin(p2) + m*p1*pdot2**2)/(J*Jb/r**2 + J*m + Jb**2/r**2 + Jb*m*p1**2/r**2 + 2*Jb*m + m**2*p1**2) + (Jb/r**2 + m)*(-g*m*p1*cos(p2) + g*m*r*sin(p2) - 2*m*p1*pdot1*pdot2)/(J*Jb/r**2 + J*m + Jb**2/r**2 + Jb*m*p1**2/r**2 + 2*Jb*m + m**2*p1**2)]])"
      ]
     },
     "execution_count": 63,
     "metadata": {},
     "output_type": "execute_result"
    }
   ],
   "source": [
    "ff = mod.state_eq.subs(tau1, 0)\n",
    "ff"
   ]
  },
  {
   "cell_type": "code",
   "execution_count": 64,
   "metadata": {},
   "outputs": [
    {
     "data": {
      "text/latex": [
       "$\\displaystyle \\left[\\begin{matrix}0\\\\0\\\\\\frac{m r}{\\frac{J Jb}{r^{2}} + J m + \\frac{Jb^{2}}{r^{2}} + \\frac{Jb m p_{1}^{2}}{r^{2}} + 2 Jb m + m^{2} p_{1}^{2}}\\\\\\frac{\\frac{Jb}{r^{2}} + m}{\\frac{J Jb}{r^{2}} + J m + \\frac{Jb^{2}}{r^{2}} + \\frac{Jb m p_{1}^{2}}{r^{2}} + 2 Jb m + m^{2} p_{1}^{2}}\\end{matrix}\\right]$"
      ],
      "text/plain": [
       "Matrix([\n",
       "[                                                                                   0],\n",
       "[                                                                                   0],\n",
       "[          m*r/(J*Jb/r**2 + J*m + Jb**2/r**2 + Jb*m*p1**2/r**2 + 2*Jb*m + m**2*p1**2)],\n",
       "[(Jb/r**2 + m)/(J*Jb/r**2 + J*m + Jb**2/r**2 + Jb*m*p1**2/r**2 + 2*Jb*m + m**2*p1**2)]])"
      ]
     },
     "execution_count": 64,
     "metadata": {},
     "output_type": "execute_result"
    }
   ],
   "source": [
    "gg = (mod.state_eq - ff).jacobian(mod.tau)\n",
    "gg"
   ]
  },
  {
   "cell_type": "code",
   "execution_count": 65,
   "metadata": {},
   "outputs": [],
   "source": [
    "mod.calc_coll_part_lin_state_eq(simplify=True)"
   ]
  },
  {
   "cell_type": "code",
   "execution_count": 67,
   "metadata": {},
   "outputs": [
    {
     "data": {
      "text/latex": [
       "$\\displaystyle \\left[\\begin{matrix}p_{1}\\\\p_{2}\\\\\\dot{p}_{1}\\\\\\dot{p}_{2}\\end{matrix}\\right]$"
      ],
      "text/plain": [
       "Matrix([\n",
       "[   p1],\n",
       "[   p2],\n",
       "[pdot1],\n",
       "[pdot2]])"
      ]
     },
     "execution_count": 67,
     "metadata": {},
     "output_type": "execute_result"
    }
   ],
   "source": [
    "xx = mod.x ##:T\n",
    "f = mod.ff ##:\n",
    "G = mod.gg \n",
    "g1, = st.col_split(G) ##:\n",
    "xx"
   ]
  },
  {
   "cell_type": "code",
   "execution_count": 68,
   "metadata": {},
   "outputs": [
    {
     "data": {
      "text/latex": [
       "$\\displaystyle \\left[\\begin{matrix}\\dot{p}_{1}\\\\\\dot{p}_{2}\\\\\\frac{m r^{2} \\left(- g \\sin{\\left(p_{2} \\right)} + p_{1} \\dot{p}_{2}^{2}\\right)}{Jb + m r^{2}}\\\\0\\end{matrix}\\right]$"
      ],
      "text/plain": [
       "Matrix([\n",
       "[                                          pdot1],\n",
       "[                                          pdot2],\n",
       "[m*r**2*(-g*sin(p2) + p1*pdot2**2)/(Jb + m*r**2)],\n",
       "[                                              0]])"
      ]
     },
     "execution_count": 68,
     "metadata": {},
     "output_type": "execute_result"
    }
   ],
   "source": [
    "f"
   ]
  },
  {
   "cell_type": "code",
   "execution_count": 69,
   "metadata": {},
   "outputs": [
    {
     "data": {
      "text/latex": [
       "$\\displaystyle \\left[\\begin{matrix}0\\\\0\\\\\\frac{m r^{3}}{Jb + m r^{2}}\\\\1\\end{matrix}\\right]$"
      ],
      "text/plain": [
       "Matrix([\n",
       "[                   0],\n",
       "[                   0],\n",
       "[m*r**3/(Jb + m*r**2)],\n",
       "[                   1]])"
      ]
     },
     "execution_count": 69,
     "metadata": {},
     "output_type": "execute_result"
    }
   ],
   "source": [
    "G"
   ]
  },
  {
   "cell_type": "code",
   "execution_count": 70,
   "metadata": {},
   "outputs": [
    {
     "data": {
      "text/latex": [
       "$\\displaystyle \\left[\\begin{matrix}0\\\\0\\\\0\\\\0\\end{matrix}\\right]$"
      ],
      "text/plain": [
       "Matrix([\n",
       "[0],\n",
       "[0],\n",
       "[0],\n",
       "[0]])"
      ]
     },
     "execution_count": 70,
     "metadata": {},
     "output_type": "execute_result"
    }
   ],
   "source": [
    "eqp1 = sp.Matrix([0, 0, 0, 0 ])\n",
    "\n",
    "# Probe:\n",
    "f.subz(xx, eqp1) ##:T"
   ]
  },
  {
   "cell_type": "code",
   "execution_count": 71,
   "metadata": {},
   "outputs": [
    {
     "data": {
      "text/plain": [
       "[(g, 9.81),\n",
       " (m, 0.05),\n",
       " (r, 0.01),\n",
       " (J, 0.02),\n",
       " (Jb, 2e-06),\n",
       " (p1, 0),\n",
       " (p2, 0),\n",
       " (pdot1, 0),\n",
       " (pdot2, 0)]"
      ]
     },
     "execution_count": 71,
     "metadata": {},
     "output_type": "execute_result"
    }
   ],
   "source": [
    "# Parameterwerte\n",
    "parameter_values = [(g, 9.81), (m, 0.05), (r, 0.01), (J, 0.02), (Jb, 2e-6)]\n",
    "replm =  parameter_values + list(zip(xx, eqp1)) ##\n",
    "replm"
   ]
  },
  {
   "cell_type": "code",
   "execution_count": 72,
   "metadata": {},
   "outputs": [
    {
     "data": {
      "text/latex": [
       "$\\displaystyle \\left[\\begin{matrix}0 & 0 & 1 & 0\\\\0 & 0 & 0 & 1\\\\-0.175148545963549 & -7.00664243272582 & 0 & 0\\\\-24.5207964348969 & 0.0700594183854196 & 0 & 0\\end{matrix}\\right]$"
      ],
      "text/plain": [
       "Matrix([\n",
       "[                 0,                  0, 1, 0],\n",
       "[                 0,                  0, 0, 1],\n",
       "[-0.175148545963549,  -7.00664243272582, 0, 0],\n",
       "[ -24.5207964348969, 0.0700594183854196, 0, 0]])"
      ]
     },
     "execution_count": 72,
     "metadata": {},
     "output_type": "execute_result"
    }
   ],
   "source": [
    "# A1 = f.jacobian(xx).subs(replm) ##\n",
    "A1 = ff.jacobian(xx).subs(replm) ##\n",
    "A1"
   ]
  },
  {
   "cell_type": "code",
   "execution_count": 73,
   "metadata": {},
   "outputs": [
    {
     "data": {
      "text/latex": [
       "$\\displaystyle \\left[\\begin{matrix}0\\\\0\\\\0.357081643146889\\\\49.9914300405645\\end{matrix}\\right]$"
      ],
      "text/plain": [
       "Matrix([\n",
       "[                0],\n",
       "[                0],\n",
       "[0.357081643146889],\n",
       "[ 49.9914300405645]])"
      ]
     },
     "execution_count": 73,
     "metadata": {},
     "output_type": "execute_result"
    }
   ],
   "source": [
    "# b1 = G.subs(replm) ##\n",
    "b1 = gg.subs(replm) ##\n",
    "b1"
   ]
  },
  {
   "cell_type": "code",
   "execution_count": null,
   "metadata": {},
   "outputs": [],
   "source": [
    "def normalize_F(F):\n",
    "    return F / F[0]"
   ]
  },
  {
   "cell_type": "code",
   "execution_count": null,
   "metadata": {},
   "outputs": [],
   "source": [
    "def F_env_order(F):\n",
    "    return [F[0,0], F[0,2], F[0,1], F[0,3]]\n"
   ]
  },
  {
   "cell_type": "code",
   "execution_count": null,
   "metadata": {},
   "outputs": [
    {
     "name": "stdout",
     "output_type": "stream",
     "text": [
      "F [[-0.63006441  0.49484948 -0.14085323  0.1120112 ]]\n",
      "F in env order of x, xdot, phi, phidot:\n",
      "[-0.6300644137614678, -0.14085322764525993, 0.49484948, 0.1120112]\n"
     ]
    },
    {
     "data": {
      "text/plain": [
       "array([-1.3+3.4j, -1.3-3.4j, -1.5+1.2j, -1.5-1.2j])"
      ]
     },
     "execution_count": 88,
     "metadata": {},
     "output_type": "execute_result"
    }
   ],
   "source": [
    "a = 1.2\n",
    "b = 3.4\n",
    "\n",
    "poles = np.r_[-1.5+a*1j, -1.5-a*1j, -1.3 + b*1j, -1.3 - b*1j] ##:\n",
    "# poles = np.linspace(-5, -8, 4)\n",
    "# k1 = st.siso_place(A1, b1, poles)\n",
    "# print(k1)\n",
    "# A1-b1@k1\n",
    "import control as ctrl\n",
    "F = ctrl.place(np.array(A1, dtype=float), np.array(b1, dtype=float), poles)\n",
    "print(\"F\", F)\n",
    "print(\"F in env order of x, xdot, phi, phidot:\")\n",
    "F_env = F_env_order(F)\n",
    "print(F_env)\n",
    "np.linalg.eigvals(np.array(A1, dtype=float) - np.array(b1, dtype=float) @ F)"
   ]
  },
  {
   "cell_type": "markdown",
   "metadata": {},
   "source": [
    "3 state components"
   ]
  },
  {
   "attachments": {},
   "cell_type": "markdown",
   "metadata": {},
   "source": [
    "LQR"
   ]
  },
  {
   "cell_type": "code",
   "execution_count": null,
   "metadata": {},
   "outputs": [
    {
     "name": "stdout",
     "output_type": "stream",
     "text": [
      "[[-5.9896445  26.2098074  -8.43436161  5.57211783]]\n",
      "F in env order of x, xdot, phi, phidot:\n",
      "[-5.989644501647571, -8.434361610122082, 26.20980739989586, 5.572117832137562]\n",
      "[-273.83207897+0.j          -1.87104003+1.8727748j   -1.87104003-1.8727748j   -1.00387477+0.j       ]\n"
     ]
    }
   ],
   "source": [
    "from scipy.linalg import solve_continuous_are\n",
    "# Q = np.diag([1000, 1000, 1000, 1000])\n",
    "Q = np.diag([30, 30, 30, 30])\n",
    "R = 1\n",
    "A = np.array(A1, dtype=float)\n",
    "B = np.array(b1, dtype=float)\n",
    "P = solve_continuous_are(A, B, Q, R)\n",
    "# print(P)\n",
    "K = 1/R * B.T @ P\n",
    "print(K)\n",
    "# print(normalize_F(F_LQR))\n",
    "print(\"F in env order of x, xdot, phi, phidot:\")\n",
    "F_env = F_env_order(K)\n",
    "print(F_env)\n",
    "print(np.linalg.eigvals(np.array(A1, dtype=float) - np.array(b1, dtype=float) @ K))"
   ]
  },
  {
   "cell_type": "code",
   "execution_count": null,
   "metadata": {},
   "outputs": [
    {
     "data": {
      "text/plain": [
       "array([-1.72287216e+05+0.j        , -9.99999999e-01+0.j        , -8.82387022e+00+0.02868831j, -8.82387022e+00-0.02868831j])"
      ]
     },
     "execution_count": 134,
     "metadata": {},
     "output_type": "execute_result"
    }
   ],
   "source": [
    "np.linalg.eigvals(np.array(A1, dtype=float) - np.array(b1, dtype=float) @ K)"
   ]
  },
  {
   "cell_type": "code",
   "execution_count": null,
   "metadata": {},
   "outputs": [
    {
     "data": {
      "text/latex": [
       "$\\displaystyle \\left[\\begin{matrix}p_{1}\\\\p_{2}\\\\\\dot{p}_{1}\\\\\\dot{p}_{2}\\end{matrix}\\right]$"
      ],
      "text/plain": [
       "Matrix([\n",
       "[   p1],\n",
       "[   p2],\n",
       "[pdot1],\n",
       "[pdot2]])"
      ]
     },
     "execution_count": 135,
     "metadata": {},
     "output_type": "execute_result"
    }
   ],
   "source": [
    "xx"
   ]
  },
  {
   "cell_type": "markdown",
   "metadata": {},
   "source": [
    "3 state"
   ]
  },
  {
   "cell_type": "code",
   "execution_count": null,
   "metadata": {},
   "outputs": [
    {
     "name": "stdout",
     "output_type": "stream",
     "text": [
      "[[-1.48662192e+04 -1.68475490e+03 -5.47722557e+00]]\n"
     ]
    }
   ],
   "source": [
    "from scipy.linalg import solve_continuous_are\n",
    "# Q = np.diag([1000, 1000, 1000, 1000])\n",
    "Q = np.diag([30, 30, 30])\n",
    "R = 1\n",
    "A = np.array(A3, dtype=float)\n",
    "B = np.array(b3, dtype=float)\n",
    "\n",
    "P = solve_continuous_are(A, B, Q, R)\n",
    "# print(P)\n",
    "K = 1/R * B.T @ P\n",
    "print(K)\n",
    "# print(normalize_F(F_LQR))"
   ]
  },
  {
   "cell_type": "markdown",
   "metadata": {},
   "source": [
    "swingup"
   ]
  },
  {
   "cell_type": "code",
   "execution_count": null,
   "metadata": {},
   "outputs": [
    {
     "data": {
      "text/latex": [
       "$\\displaystyle 1000 I_{2} \\dot{p}_{1} \\left(g \\left(1 - \\cos{\\left(p_{1} \\right)}\\right) \\left(l m_{2} + m_{1} s\\right) + \\dot{p}_{2}^{2} \\cdot \\left(0.5 I_{1} + 0.5 I_{2} + 0.5 l^{2} m_{2} + 0.5 m_{1} s^{2}\\right)\\right) - 0.1 \\dot{p}_{2}$"
      ],
      "text/plain": [
       "1000*I2*pdot1*(g*(1 - cos(p1))*(l*m2 + m1*s) + pdot2**2*(0.5*I1 + 0.5*I2 + 0.5*l**2*m2 + 0.5*m1*s**2)) - 0.1*pdot2"
      ]
     },
     "execution_count": 137,
     "metadata": {},
     "output_type": "execute_result"
    }
   ],
   "source": [
    "kv = 0.1\n",
    "ke = 1000\n",
    "E0 = 1/2 * J1 * pdot2**2 + (m1*s + m2*l)*g*(1-cos(p1))\n",
    "u = I2 * ke * E0 * pdot1 - kv* pdot2\n",
    "u"
   ]
  },
  {
   "cell_type": "code",
   "execution_count": null,
   "metadata": {},
   "outputs": [
    {
     "data": {
      "text/plain": [
       "'0.032*pdot1*(0.00246059*pdot2**2 - 0.3831786*cos(p1) + 0.3831786) - 0.1*pdot2'"
      ]
     },
     "execution_count": 138,
     "metadata": {},
     "output_type": "execute_result"
    }
   ],
   "source": [
    "repr(u.subs(parameter_values))"
   ]
  },
  {
   "cell_type": "code",
   "execution_count": null,
   "metadata": {},
   "outputs": [
    {
     "ename": "ShapeError",
     "evalue": "Matrix size mismatch.",
     "output_type": "error",
     "traceback": [
      "\u001b[1;31m---------------------------------------------------------------------------\u001b[0m",
      "\u001b[1;31mShapeError\u001b[0m                                Traceback (most recent call last)",
      "Cell \u001b[1;32mIn[139], line 8\u001b[0m\n\u001b[0;32m      6\u001b[0m P_num \u001b[39m=\u001b[39m P\u001b[39m.\u001b[39msubs(sol)\u001b[39m.\u001b[39msubs([(\u001b[39m\"\u001b[39m\u001b[39mp2\u001b[39m\u001b[39m\"\u001b[39m, sol[p[\u001b[39m8\u001b[39m]]), (\u001b[39m\"\u001b[39m\u001b[39mp6\u001b[39m\u001b[39m\"\u001b[39m, sol[p[\u001b[39m9\u001b[39m]]), (\u001b[39m\"\u001b[39m\u001b[39mp14\u001b[39m\u001b[39m\"\u001b[39m, sol[p[\u001b[39m11\u001b[39m]])])\u001b[39m.\u001b[39msubs(\u001b[39mzip\u001b[39m(p, sp\u001b[39m.\u001b[39mones(\u001b[39m16\u001b[39m,\u001b[39m1\u001b[39m)))\n\u001b[0;32m      7\u001b[0m \u001b[39m# print(P_num)\u001b[39;00m\n\u001b[1;32m----> 8\u001b[0m \u001b[39massert\u001b[39;00m np\u001b[39m.\u001b[39msum(B\u001b[39m.\u001b[39;49mT\u001b[39m@P_num\u001b[39;49m \u001b[39m-\u001b[39m F_NN) \u001b[39m==\u001b[39m \u001b[39m0\u001b[39m\n\u001b[0;32m      9\u001b[0m Q \u001b[39m=\u001b[39m \u001b[39m-\u001b[39m(A\u001b[39m.\u001b[39mT\u001b[39m@P_num\u001b[39m \u001b[39m+\u001b[39m P_num\u001b[39m@A\u001b[39m\u001b[39m-\u001b[39mP_num\u001b[39m@B\u001b[39m\u001b[39m@B\u001b[39m\u001b[39m.\u001b[39mT\u001b[39m@P_num\u001b[39m)\n\u001b[0;32m     10\u001b[0m \u001b[39mprint\u001b[39m(Q\u001b[39m.\u001b[39meigenvals())\n",
      "File \u001b[1;32mc:\\Users\\Julius Fiedler\\anaconda3\\envs\\da\\lib\\site-packages\\sympy\\core\\decorators.py:106\u001b[0m, in \u001b[0;36mcall_highest_priority.<locals>.priority_decorator.<locals>.binary_op_wrapper\u001b[1;34m(self, other)\u001b[0m\n\u001b[0;32m    104\u001b[0m         \u001b[39mif\u001b[39;00m f \u001b[39mis\u001b[39;00m \u001b[39mnot\u001b[39;00m \u001b[39mNone\u001b[39;00m:\n\u001b[0;32m    105\u001b[0m             \u001b[39mreturn\u001b[39;00m f(\u001b[39mself\u001b[39m)\n\u001b[1;32m--> 106\u001b[0m \u001b[39mreturn\u001b[39;00m func(\u001b[39mself\u001b[39;49m, other)\n",
      "File \u001b[1;32mc:\\Users\\Julius Fiedler\\anaconda3\\envs\\da\\lib\\site-packages\\sympy\\matrices\\common.py:2954\u001b[0m, in \u001b[0;36mMatrixArithmetic.__rmatmul__\u001b[1;34m(self, other)\u001b[0m\n\u001b[0;32m   2951\u001b[0m \u001b[39mif\u001b[39;00m \u001b[39mnot\u001b[39;00m \u001b[39mgetattr\u001b[39m(other, \u001b[39m'\u001b[39m\u001b[39mis_Matrix\u001b[39m\u001b[39m'\u001b[39m, \u001b[39mFalse\u001b[39;00m) \u001b[39mand\u001b[39;00m \u001b[39mnot\u001b[39;00m \u001b[39mgetattr\u001b[39m(other, \u001b[39m'\u001b[39m\u001b[39mis_MatrixLike\u001b[39m\u001b[39m'\u001b[39m, \u001b[39mFalse\u001b[39;00m):\n\u001b[0;32m   2952\u001b[0m     \u001b[39mreturn\u001b[39;00m \u001b[39mNotImplemented\u001b[39m\n\u001b[1;32m-> 2954\u001b[0m \u001b[39mreturn\u001b[39;00m \u001b[39mself\u001b[39;49m\u001b[39m.\u001b[39;49m\u001b[39m__rmul__\u001b[39;49m(other)\n",
      "File \u001b[1;32mc:\\Users\\Julius Fiedler\\anaconda3\\envs\\da\\lib\\site-packages\\sympy\\core\\decorators.py:106\u001b[0m, in \u001b[0;36mcall_highest_priority.<locals>.priority_decorator.<locals>.binary_op_wrapper\u001b[1;34m(self, other)\u001b[0m\n\u001b[0;32m    104\u001b[0m         \u001b[39mif\u001b[39;00m f \u001b[39mis\u001b[39;00m \u001b[39mnot\u001b[39;00m \u001b[39mNone\u001b[39;00m:\n\u001b[0;32m    105\u001b[0m             \u001b[39mreturn\u001b[39;00m f(\u001b[39mself\u001b[39m)\n\u001b[1;32m--> 106\u001b[0m \u001b[39mreturn\u001b[39;00m func(\u001b[39mself\u001b[39;49m, other)\n",
      "File \u001b[1;32mc:\\Users\\Julius Fiedler\\anaconda3\\envs\\da\\lib\\site-packages\\sympy\\matrices\\common.py:2958\u001b[0m, in \u001b[0;36mMatrixArithmetic.__rmul__\u001b[1;34m(self, other)\u001b[0m\n\u001b[0;32m   2956\u001b[0m \u001b[39m@call_highest_priority\u001b[39m(\u001b[39m'\u001b[39m\u001b[39m__mul__\u001b[39m\u001b[39m'\u001b[39m)\n\u001b[0;32m   2957\u001b[0m \u001b[39mdef\u001b[39;00m \u001b[39m__rmul__\u001b[39m(\u001b[39mself\u001b[39m, other):\n\u001b[1;32m-> 2958\u001b[0m     \u001b[39mreturn\u001b[39;00m \u001b[39mself\u001b[39;49m\u001b[39m.\u001b[39;49mrmultiply(other)\n",
      "File \u001b[1;32mc:\\Users\\Julius Fiedler\\anaconda3\\envs\\da\\lib\\site-packages\\sympy\\matrices\\common.py:2979\u001b[0m, in \u001b[0;36mMatrixArithmetic.rmultiply\u001b[1;34m(self, other, dotprodsimp)\u001b[0m\n\u001b[0;32m   2975\u001b[0m \u001b[39mif\u001b[39;00m (\u001b[39mhasattr\u001b[39m(other, \u001b[39m'\u001b[39m\u001b[39mshape\u001b[39m\u001b[39m'\u001b[39m) \u001b[39mand\u001b[39;00m \u001b[39mlen\u001b[39m(other\u001b[39m.\u001b[39mshape) \u001b[39m==\u001b[39m \u001b[39m2\u001b[39m \u001b[39mand\u001b[39;00m\n\u001b[0;32m   2976\u001b[0m     (\u001b[39mgetattr\u001b[39m(other, \u001b[39m'\u001b[39m\u001b[39mis_Matrix\u001b[39m\u001b[39m'\u001b[39m, \u001b[39mTrue\u001b[39;00m) \u001b[39mor\u001b[39;00m\n\u001b[0;32m   2977\u001b[0m      \u001b[39mgetattr\u001b[39m(other, \u001b[39m'\u001b[39m\u001b[39mis_MatrixLike\u001b[39m\u001b[39m'\u001b[39m, \u001b[39mTrue\u001b[39;00m))):\n\u001b[0;32m   2978\u001b[0m     \u001b[39mif\u001b[39;00m \u001b[39mself\u001b[39m\u001b[39m.\u001b[39mshape[\u001b[39m0\u001b[39m] \u001b[39m!=\u001b[39m other\u001b[39m.\u001b[39mshape[\u001b[39m1\u001b[39m]:\n\u001b[1;32m-> 2979\u001b[0m         \u001b[39mraise\u001b[39;00m ShapeError(\u001b[39m\"\u001b[39m\u001b[39mMatrix size mismatch.\u001b[39m\u001b[39m\"\u001b[39m)\n\u001b[0;32m   2981\u001b[0m \u001b[39m# honest SymPy matrices defer to their class's routine\u001b[39;00m\n\u001b[0;32m   2982\u001b[0m \u001b[39mif\u001b[39;00m \u001b[39mgetattr\u001b[39m(other, \u001b[39m'\u001b[39m\u001b[39mis_Matrix\u001b[39m\u001b[39m'\u001b[39m, \u001b[39mFalse\u001b[39;00m):\n",
      "\u001b[1;31mShapeError\u001b[0m: Matrix size mismatch."
     ]
    }
   ],
   "source": [
    "# calculate Q from given F\n",
    "F_NN = np.array([[16.94674301,  31.63287544, 150.45680237,  40.50919724]])\n",
    "p = [sp.var(f\"p{i}\") for i in range(16)]\n",
    "P = sp.Matrix(np.array(p).reshape(4,4))\n",
    "sol = sp.solve(b1.T@P-sp.Matrix(F_NN), P)\n",
    "P_num = P.subs(sol).subs([(\"p2\", sol[p[8]]), (\"p6\", sol[p[9]]), (\"p14\", sol[p[11]])]).subs(zip(p, sp.ones(16,1)))\n",
    "# print(P_num)\n",
    "assert np.sum(B.T@P_num - F_NN) == 0\n",
    "Q = -(A.T@P_num + P_num@A-P_num@B@B.T@P_num)\n",
    "print(Q.eigenvals())\n",
    "Q = np.array(Q, dtype=float)\n",
    "\n"
   ]
  },
  {
   "cell_type": "code",
   "execution_count": null,
   "metadata": {},
   "outputs": [
    {
     "data": {
      "text/latex": [
       "$\\displaystyle \\left[\\begin{matrix}15875.5857111262\\\\0.627928577300507\\\\958.665427553576\\\\0.633727212114664\\end{matrix}\\right]$"
      ],
      "text/plain": [
       "Matrix([\n",
       "[ 15875.5857111262],\n",
       "[0.627928577300507],\n",
       "[ 958.665427553576],\n",
       "[0.633727212114664]])"
      ]
     },
     "execution_count": 45,
     "metadata": {},
     "output_type": "execute_result"
    }
   ],
   "source": [
    "k1 = st.siso_place(A1, b1, poles)##:T\n",
    "\n",
    "controller1_expr1 = k1.T*mod.xx\n",
    "controller1_func_intern = st.expr_to_func(mod.xx, k1.T*mod.xx)\n",
    "\n",
    "def controller1_func(xx, t):\n",
    "    # Zeit t ignorieren\n",
    "    return controller1_func_intern(*xx)\n",
    "\n",
    "k1"
   ]
  },
  {
   "cell_type": "code",
   "execution_count": null,
   "metadata": {},
   "outputs": [
    {
     "data": {
      "text/plain": [
       "{-1.3 - 3.4*I: 1, -1.5 - 1.2*I: 1, -1.5 + 1.2*I: 1, -1.3 + 3.4*I: 1}"
      ]
     },
     "execution_count": 46,
     "metadata": {},
     "output_type": "execute_result"
    }
   ],
   "source": [
    "# Probe\n",
    "A = A1 + b1*k1.T\n",
    "A.eigenvals(rational=False)"
   ]
  },
  {
   "cell_type": "code",
   "execution_count": null,
   "metadata": {},
   "outputs": [
    {
     "name": "stderr",
     "output_type": "stream",
     "text": [
      "c:\\Users\\Julius Fiedler\\anaconda3\\envs\\da\\lib\\site-packages\\scipy\\integrate\\_odepack_py.py:248: ODEintWarning: Excess work done on this call (perhaps wrong Dfun type). Run with full_output = 1 to get quantitative information.\n",
      "  warnings.warn(warning_msg, ODEintWarning)\n"
     ]
    }
   ],
   "source": [
    "# Zeit-Array und Anfangswerte\n",
    "tt = np.arange(0, 10, 1e-3)\n",
    "xx0 = [3, 0, 0, 0] ##\n",
    "\n",
    "#Erstellung des Simulationsmodells\n",
    "sm = st.SimulationModel(mod.ff, mod.gg, mod.xx, model_parameters=parameter_values)\n",
    "rhs1 = sm.create_simfunction(controller_function=controller1_func)\n",
    "\n",
    "# Durchführung der Simulation\n",
    "res = odeint(rhs1, xx0, tt)\n",
    "X1, X2, X3, X4 = res.T\n",
    "aa1 = controller1_func_intern(X1, X2, X3, X4)"
   ]
  },
  {
   "cell_type": "code",
   "execution_count": null,
   "metadata": {},
   "outputs": [
    {
     "data": {
      "text/plain": [
       "<matplotlib.legend.Legend at 0x150ad8c7a30>"
      ]
     },
     "execution_count": 48,
     "metadata": {},
     "output_type": "execute_result"
    },
    {
     "data": {
      "image/png": "[encoded data removed]",
      "text/plain": [
       "<Figure size 1500x400 with 3 Axes>"
      ]
     },
     "metadata": {},
     "output_type": "display_data"
    }
   ],
   "source": [
    "T_fin = 6\n",
    "plt.figure(figsize=(15,4))\n",
    "plt.subplot(1, 3, 1)\n",
    "plt.plot(tt, X1, label=\"phi\")\n",
    "plt.legend(loc='best', fontsize=16)\n",
    "plt.subplot(1, 3, 2)\n",
    "plt.plot(tt, X2, label=\"x\")\n",
    "plt.legend(loc='best', fontsize=16)\n",
    "plt.subplot(1, 3, 3)\n",
    "plt.plot(tt, aa1, label=\"u\")\n",
    "plt.vlines([T_fin], -20, 20, color='0.8', label=r'Tend')\n",
    "plt.legend(loc='best', fontsize=16)"
   ]
  },
  {
   "attachments": {},
   "cell_type": "markdown",
   "metadata": {},
   "source": [
    "Simulation"
   ]
  },
  {
   "cell_type": "code",
   "execution_count": null,
   "metadata": {},
   "outputs": [
    {
     "ename": "KeyboardInterrupt",
     "evalue": "",
     "output_type": "error",
     "traceback": [
      "\u001b[1;31m---------------------------------------------------------------------------\u001b[0m",
      "\u001b[1;31mKeyboardInterrupt\u001b[0m                         Traceback (most recent call last)",
      "Cell \u001b[1;32mIn[49], line 22\u001b[0m\n\u001b[0;32m     20\u001b[0m tt \u001b[39m=\u001b[39m np\u001b[39m.\u001b[39mlinspace(\u001b[39m0\u001b[39m, tend, \u001b[39m2000\u001b[39m)\n\u001b[0;32m     21\u001b[0m xx0 \u001b[39m=\u001b[39m [\u001b[39m0\u001b[39m, \u001b[39m0\u001b[39m, \u001b[39m0.01\u001b[39m, \u001b[39m0\u001b[39m]\n\u001b[1;32m---> 22\u001b[0m s \u001b[39m=\u001b[39m solve_ivp(rhs, (\u001b[39m0\u001b[39;49m, tend), xx0, t_eval\u001b[39m=\u001b[39;49mtt)\n\u001b[0;32m     23\u001b[0m labels \u001b[39m=\u001b[39m [\u001b[39m\"\u001b[39m\u001b[39mx\u001b[39m\u001b[39m\"\u001b[39m, \u001b[39m\"\u001b[39m\u001b[39mxdot\u001b[39m\u001b[39m\"\u001b[39m, \u001b[39m\"\u001b[39m\u001b[39mphi\u001b[39m\u001b[39m\"\u001b[39m, \u001b[39m\"\u001b[39m\u001b[39mphidot\u001b[39m\u001b[39m\"\u001b[39m]\n\u001b[0;32m     24\u001b[0m \u001b[39mfor\u001b[39;00m i \u001b[39min\u001b[39;00m \u001b[39mrange\u001b[39m(\u001b[39m4\u001b[39m):\n",
      "File \u001b[1;32mc:\\Users\\Julius Fiedler\\anaconda3\\envs\\da\\lib\\site-packages\\scipy\\integrate\\_ivp\\ivp.py:591\u001b[0m, in \u001b[0;36msolve_ivp\u001b[1;34m(fun, t_span, y0, method, t_eval, dense_output, events, vectorized, args, **options)\u001b[0m\n\u001b[0;32m    589\u001b[0m status \u001b[39m=\u001b[39m \u001b[39mNone\u001b[39;00m\n\u001b[0;32m    590\u001b[0m \u001b[39mwhile\u001b[39;00m status \u001b[39mis\u001b[39;00m \u001b[39mNone\u001b[39;00m:\n\u001b[1;32m--> 591\u001b[0m     message \u001b[39m=\u001b[39m solver\u001b[39m.\u001b[39;49mstep()\n\u001b[0;32m    593\u001b[0m     \u001b[39mif\u001b[39;00m solver\u001b[39m.\u001b[39mstatus \u001b[39m==\u001b[39m \u001b[39m'\u001b[39m\u001b[39mfinished\u001b[39m\u001b[39m'\u001b[39m:\n\u001b[0;32m    594\u001b[0m         status \u001b[39m=\u001b[39m \u001b[39m0\u001b[39m\n",
      "File \u001b[1;32mc:\\Users\\Julius Fiedler\\anaconda3\\envs\\da\\lib\\site-packages\\scipy\\integrate\\_ivp\\base.py:181\u001b[0m, in \u001b[0;36mOdeSolver.step\u001b[1;34m(self)\u001b[0m\n\u001b[0;32m    179\u001b[0m \u001b[39melse\u001b[39;00m:\n\u001b[0;32m    180\u001b[0m     t \u001b[39m=\u001b[39m \u001b[39mself\u001b[39m\u001b[39m.\u001b[39mt\n\u001b[1;32m--> 181\u001b[0m     success, message \u001b[39m=\u001b[39m \u001b[39mself\u001b[39;49m\u001b[39m.\u001b[39;49m_step_impl()\n\u001b[0;32m    183\u001b[0m     \u001b[39mif\u001b[39;00m \u001b[39mnot\u001b[39;00m success:\n\u001b[0;32m    184\u001b[0m         \u001b[39mself\u001b[39m\u001b[39m.\u001b[39mstatus \u001b[39m=\u001b[39m \u001b[39m'\u001b[39m\u001b[39mfailed\u001b[39m\u001b[39m'\u001b[39m\n",
      "File \u001b[1;32mc:\\Users\\Julius Fiedler\\anaconda3\\envs\\da\\lib\\site-packages\\scipy\\integrate\\_ivp\\rk.py:144\u001b[0m, in \u001b[0;36mRungeKutta._step_impl\u001b[1;34m(self)\u001b[0m\n\u001b[0;32m    141\u001b[0m h \u001b[39m=\u001b[39m t_new \u001b[39m-\u001b[39m t\n\u001b[0;32m    142\u001b[0m h_abs \u001b[39m=\u001b[39m np\u001b[39m.\u001b[39mabs(h)\n\u001b[1;32m--> 144\u001b[0m y_new, f_new \u001b[39m=\u001b[39m rk_step(\u001b[39mself\u001b[39;49m\u001b[39m.\u001b[39;49mfun, t, y, \u001b[39mself\u001b[39;49m\u001b[39m.\u001b[39;49mf, h, \u001b[39mself\u001b[39;49m\u001b[39m.\u001b[39;49mA,\n\u001b[0;32m    145\u001b[0m                        \u001b[39mself\u001b[39;49m\u001b[39m.\u001b[39;49mB, \u001b[39mself\u001b[39;49m\u001b[39m.\u001b[39;49mC, \u001b[39mself\u001b[39;49m\u001b[39m.\u001b[39;49mK)\n\u001b[0;32m    146\u001b[0m scale \u001b[39m=\u001b[39m atol \u001b[39m+\u001b[39m np\u001b[39m.\u001b[39mmaximum(np\u001b[39m.\u001b[39mabs(y), np\u001b[39m.\u001b[39mabs(y_new)) \u001b[39m*\u001b[39m rtol\n\u001b[0;32m    147\u001b[0m error_norm \u001b[39m=\u001b[39m \u001b[39mself\u001b[39m\u001b[39m.\u001b[39m_estimate_error_norm(\u001b[39mself\u001b[39m\u001b[39m.\u001b[39mK, h, scale)\n",
      "File \u001b[1;32mc:\\Users\\Julius Fiedler\\anaconda3\\envs\\da\\lib\\site-packages\\scipy\\integrate\\_ivp\\rk.py:64\u001b[0m, in \u001b[0;36mrk_step\u001b[1;34m(fun, t, y, f, h, A, B, C, K)\u001b[0m\n\u001b[0;32m     62\u001b[0m \u001b[39mfor\u001b[39;00m s, (a, c) \u001b[39min\u001b[39;00m \u001b[39menumerate\u001b[39m(\u001b[39mzip\u001b[39m(A[\u001b[39m1\u001b[39m:], C[\u001b[39m1\u001b[39m:]), start\u001b[39m=\u001b[39m\u001b[39m1\u001b[39m):\n\u001b[0;32m     63\u001b[0m     dy \u001b[39m=\u001b[39m np\u001b[39m.\u001b[39mdot(K[:s]\u001b[39m.\u001b[39mT, a[:s]) \u001b[39m*\u001b[39m h\n\u001b[1;32m---> 64\u001b[0m     K[s] \u001b[39m=\u001b[39m fun(t \u001b[39m+\u001b[39;49m c \u001b[39m*\u001b[39;49m h, y \u001b[39m+\u001b[39;49m dy)\n\u001b[0;32m     66\u001b[0m y_new \u001b[39m=\u001b[39m y \u001b[39m+\u001b[39m h \u001b[39m*\u001b[39m np\u001b[39m.\u001b[39mdot(K[:\u001b[39m-\u001b[39m\u001b[39m1\u001b[39m]\u001b[39m.\u001b[39mT, B)\n\u001b[0;32m     67\u001b[0m f_new \u001b[39m=\u001b[39m fun(t \u001b[39m+\u001b[39m h, y_new)\n",
      "File \u001b[1;32mc:\\Users\\Julius Fiedler\\anaconda3\\envs\\da\\lib\\site-packages\\scipy\\integrate\\_ivp\\base.py:138\u001b[0m, in \u001b[0;36mOdeSolver.__init__.<locals>.fun\u001b[1;34m(t, y)\u001b[0m\n\u001b[0;32m    136\u001b[0m \u001b[39mdef\u001b[39;00m \u001b[39mfun\u001b[39m(t, y):\n\u001b[0;32m    137\u001b[0m     \u001b[39mself\u001b[39m\u001b[39m.\u001b[39mnfev \u001b[39m+\u001b[39m\u001b[39m=\u001b[39m \u001b[39m1\u001b[39m\n\u001b[1;32m--> 138\u001b[0m     \u001b[39mreturn\u001b[39;00m \u001b[39mself\u001b[39;49m\u001b[39m.\u001b[39;49mfun_single(t, y)\n",
      "File \u001b[1;32mc:\\Users\\Julius Fiedler\\anaconda3\\envs\\da\\lib\\site-packages\\scipy\\integrate\\_ivp\\base.py:20\u001b[0m, in \u001b[0;36mcheck_arguments.<locals>.fun_wrapped\u001b[1;34m(t, y)\u001b[0m\n\u001b[0;32m     19\u001b[0m \u001b[39mdef\u001b[39;00m \u001b[39mfun_wrapped\u001b[39m(t, y):\n\u001b[1;32m---> 20\u001b[0m     \u001b[39mreturn\u001b[39;00m np\u001b[39m.\u001b[39;49masarray(fun(t, y), dtype\u001b[39m=\u001b[39;49mdtype)\n",
      "\u001b[1;31mKeyboardInterrupt\u001b[0m: "
     ]
    }
   ],
   "source": [
    "from scipy.integrate import solve_ivp\n",
    "def rhs(t, state):\n",
    "    x, x_dot, theta, theta_dot = state\n",
    "    x1, x2, x3, x4 = x, theta, x_dot, theta_dot # change order\n",
    "    g = 9.8\n",
    "    l = 0.5\n",
    "    m1 = 1.0\n",
    "    m2 = 0.1\n",
    "    F = np.array([[-23.42598624,  -2.49197248,  -4.05749235,  -2.51498471]])\n",
    "    u1 = - F @ np.array([x1, x2, x3, x4])\n",
    "    dx1_dt = x3\n",
    "    dx2_dt = x4\n",
    "    dx3_dt = (-g*m2*np.sin(2*x2)/2 + l*m2*theta_dot**2*np.sin(x2) + u1)/(m1 + m2*np.sin(x2)**2)\n",
    "    dx4_dt = (g*(m1 + m2)*np.sin(x2) - (l*m2*theta_dot**2*np.sin(x2) + u1)*np.cos(x2))/\\\n",
    "        (l*(m1 + m2*np.sin(x2)**2))\n",
    "    \n",
    "    return [dx1_dt, dx3_dt, dx2_dt, dx4_dt] # change order back\n",
    "\n",
    "tend = 10\n",
    "tt = np.linspace(0, tend, 2000)\n",
    "xx0 = [0, 0, 0.01, 0]\n",
    "s = solve_ivp(rhs, (0, tend), xx0, t_eval=tt)\n",
    "labels = [\"x\", \"xdot\", \"phi\", \"phidot\"]\n",
    "for i in range(4):\n",
    "    plt.plot(s.t, s.y[i], label=labels[i])\n",
    "plt.legend()\n",
    "plt.show()"
   ]
  }
 ],
 "metadata": {
  "kernelspec": {
   "display_name": "da",
   "language": "python",
   "name": "python3"
  },
  "language_info": {
   "codemirror_mode": {
    "name": "ipython",
    "version": 3
   },
   "file_extension": ".py",
   "mimetype": "text/x-python",
   "name": "python",
   "nbconvert_exporter": "python",
   "pygments_lexer": "ipython3",
   "version": "3.8.16"
  },
  "orig_nbformat": 4,
  "vscode": {
   "interpreter": {
    "hash": "7a5251e7a0f2a79c62d3605fc843efca3d324516acff077044b5da8d168dd566"
   }
  }
 },
 "nbformat": 4,
 "nbformat_minor": 2
}
